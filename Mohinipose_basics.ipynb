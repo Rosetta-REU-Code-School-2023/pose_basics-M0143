{
  "cells": [
    {
      "cell_type": "markdown",
      "metadata": {
        "id": "N7dtvA7YVy2j"
      },
      "source": [
        "Before you turn this problem in, make sure everything runs as expected. First, **restart the kernel** (in the menubar, select Kernel$\\rightarrow$Restart) and then **run all cells** (in the menubar, select Cell$\\rightarrow$Run All).\n",
        "\n",
        "Make sure you fill in any place that says `YOUR CODE HERE` or \"YOUR ANSWER HERE\", as well as your name and collaborators below:"
      ]
    },
    {
      "cell_type": "code",
      "execution_count": 18,
      "metadata": {
        "id": "OU9Uq53jVy2r",
        "colab": {
          "base_uri": "https://localhost:8080/",
          "height": 133
        },
        "outputId": "34b1cefb-b2a7-4849-b0d1-3546ced71fad"
      },
      "outputs": [
        {
          "output_type": "error",
          "ename": "SyntaxError",
          "evalue": "ignored",
          "traceback": [
            "\u001b[0;36m  File \u001b[0;32m\"<ipython-input-18-49892a0185ca>\"\u001b[0;36m, line \u001b[0;32m1\u001b[0m\n\u001b[0;31m    NAME = Mohini Khedekar\u001b[0m\n\u001b[0m                  ^\u001b[0m\n\u001b[0;31mSyntaxError\u001b[0m\u001b[0;31m:\u001b[0m invalid syntax\n"
          ]
        }
      ],
      "source": [
        "NAME = Mohini Khedekar\n",
        "COLLABORATORS = \"\""
      ]
    },
    {
      "cell_type": "markdown",
      "metadata": {
        "id": "edLpsOZ4Vy2t"
      },
      "source": [
        "---"
      ]
    },
    {
      "cell_type": "markdown",
      "metadata": {
        "id": "lSsrsVpcVy2u"
      },
      "source": [
        "**Chapter contributors:**\n",
        "\n",
        "- Jason C. Klima (University of Washington; Lyell Immunopharma)\n",
        "- Kathy Le (Johns Hopkins University); parts of this chapter were adapted from the [PyRosetta book](https://www.amazon.com/PyRosetta-Interactive-Platform-Structure-Prediction-ebook/dp/B01N21DRY8) (J. J. Gray, S. Chaudhury, S. Lyskov, J. Labonte).\n",
        "- Jared Adolf-Bryfogle (Scripps; Institute for Protein Innovation)"
      ]
    },
    {
      "cell_type": "markdown",
      "metadata": {
        "id": "knI2SJL0Vy2v"
      },
      "source": [
        "# Pose Basics\n",
        "Keywords: pose_from_pdb(), sequence(), cleanATOM, annotated_sequence()"
      ]
    },
    {
      "cell_type": "markdown",
      "metadata": {
        "id": "fmhjfcjrVy2w"
      },
      "source": [
        "In this lab, we will get practice working with the `Pose` class in PyRosetta. We will load in a protein from a PDB files, use the `Pose` class to learn about the geometry of the protein, make changes to this geometry, and visualize the changes easily with `PyMOL` and PyRosetta's `PyMOLMover`. \n",
        "\n",
        "On the corresponding `Pose` lab found on the PyRosetta website, you will find various useful commands to interrogate poses; these may come in handy for the exercises.\n",
        "\n",
        "**PyRosetta Installation:**\n",
        "The following two lines will load in the PyRosetta library and load in database files. If this does not work, please notify the professor or the TA."
      ]
    },
    {
      "cell_type": "code",
      "execution_count": 19,
      "metadata": {
        "colab": {
          "base_uri": "https://localhost:8080/"
        },
        "id": "e4upSGlnVy2w",
        "outputId": "85acae12-ac37-4aee-fd7e-404c9801ea46"
      },
      "outputs": [
        {
          "output_type": "stream",
          "name": "stdout",
          "text": [
            "Looking in indexes: https://pypi.org/simple, https://us-python.pkg.dev/colab-wheels/public/simple/\n",
            "Requirement already satisfied: pyrosettacolabsetup in /usr/local/lib/python3.10/dist-packages (1.0.6)\n",
            "PyRosetta-4 2023 [Rosetta PyRosetta4.MinSizeRel.python310.ubuntu 2023.19+release.d7aa7f94e8be5e9d5110d37f167c2a7afd30c530 2023-05-08T16:22:16] retrieved from: http://www.pyrosetta.org\n",
            "(C) Copyright Rosetta Commons Member Institutions. Created in JHU by Sergey Lyskov and PyRosetta Team.\n",
            "core.init: Checking for fconfig files in pwd and ./rosetta/flags\n",
            "core.init: Rosetta version: PyRosetta4.MinSizeRel.python310.ubuntu r348 2023.19+release.d7aa7f94e8b d7aa7f94e8be5e9d5110d37f167c2a7afd30c530 http://www.pyrosetta.org 2023-05-08T16:22:16\n",
            "core.init: command: PyRosetta -ex1 -ex2aro -database /usr/local/lib/python3.10/dist-packages/pyrosetta/database\n",
            "basic.random.init_random_generator: 'RNG device' seed mode, using '/dev/urandom', seed=-204910852 seed_offset=0 real_seed=-204910852\n",
            "basic.random.init_random_generator: RandomGenerator:init: Normal mode, seed=-204910852 RG_type=mt19937\n"
          ]
        }
      ],
      "source": [
        "import sys\n",
        "if 'google.colab' in sys.modules:\n",
        "  !pip install pyrosettacolabsetup\n",
        "  import pyrosettacolabsetup\n",
        "  pyrosettacolabsetup.mount_pyrosetta_install()\n",
        "from pyrosetta import *\n",
        "init()\n"
      ]
    },
    {
      "cell_type": "markdown",
      "metadata": {
        "id": "pydS76ifVy2w"
      },
      "source": [
        "## Loading in a PDB File ##"
      ]
    },
    {
      "cell_type": "markdown",
      "metadata": {
        "id": "NBDKG6w1Vy2x"
      },
      "source": [
        "Protein Data Bank (PDB) is a text file format for describing 3D molecular structures and other information. Rosetta can read in PDB files and can output them as well. In addition to PDB, mmTF and mmCIF are a couple other file formats that are used with Rosetta.\n",
        "\n",
        "We will spend some time today looking at the crystal structure for the protein **PafA** (PDB ID: 5tj3) using Pyrosetta. PafA is an alkaline phosphatase, which removes a phosphate group from a phosphate monoester. In this structure, a modified amino acid, phosphothreonine, is used to mimic the substrate in the active site. Let's load in this structure with PyRosetta (make sure that you have the PDB file located in your current directory):"
      ]
    },
    {
      "cell_type": "markdown",
      "metadata": {
        "id": "ifYEQrMZVy2x"
      },
      "source": [
        "`!cd google_drive/MyDrive/name_of_your_dir/`\n",
        "\n",
        "\n",
        "`pose = pose_from_file(\"inputs/5tj3.pdb\")`\n",
        "\n",
        "\n",
        "\n",
        "Here we are inputting the PDB file using the `pose_from_file` method. Sometimes google drive is very slow to get to from Colaboratory, in which case this call can seem to hang for several minutes. Yikes! However, we can also load this structure from the internet with `pose_from_rcsb(\"5TJ3\")`. "
      ]
    },
    {
      "cell_type": "code",
      "execution_count": 20,
      "metadata": {
        "id": "TnSR2XvAVy2y"
      },
      "outputs": [],
      "source": [
        "# first navigate to the directory where you've placed the notebooks; the directory containing the \"inputs\" directory\n",
        "# so \"cd\" into this directory\n",
        "# this has to be in its own cell\n"
      ]
    },
    {
      "cell_type": "code",
      "execution_count": 21,
      "metadata": {
        "deletable": false,
        "id": "61XTq0loVy2y",
        "nbgrader": {
          "cell_type": "code",
          "checksum": "9f72072ec371043dd2bb19b184006c02",
          "grade": true,
          "grade_id": "cell-690a147764ad96d7",
          "locked": false,
          "points": 0,
          "schema_version": 3,
          "solution": true
        },
        "colab": {
          "base_uri": "https://localhost:8080/"
        },
        "outputId": "9aa395ef-3082-4c96-c105-a579e7b835f8"
      },
      "outputs": [
        {
          "output_type": "stream",
          "name": "stdout",
          "text": [
            "[Errno 2] No such file or directory: 'google_drive/MyDrive/codeschool2023/'\n",
            "/content/google_drive/MyDrive/codeschool2023\n"
          ]
        }
      ],
      "source": [
        "\n",
        "\n",
        "cd google_drive/MyDrive/codeschool2023/\n"
      ]
    },
    {
      "cell_type": "code",
      "source": [
        "pose = pose_from_file(\"/content/5tj3.pdb\")"
      ],
      "metadata": {
        "colab": {
          "base_uri": "https://localhost:8080/"
        },
        "id": "gNUb4YxUFw_Y",
        "outputId": "e80beb97-58f0-4f89-b9f9-e032141eac82"
      },
      "execution_count": 22,
      "outputs": [
        {
          "output_type": "stream",
          "name": "stdout",
          "text": [
            "core.import_pose.import_pose: File '/content/5tj3.pdb' automatically determined to be of type PDB\n",
            "core.conformation.Conformation: [ WARNING ] missing heavyatom:  CG  on residue LYS 233\n",
            "core.conformation.Conformation: [ WARNING ] missing heavyatom:  CD  on residue LYS 233\n",
            "core.conformation.Conformation: [ WARNING ] missing heavyatom:  CE  on residue LYS 233\n",
            "core.conformation.Conformation: [ WARNING ] missing heavyatom:  NZ  on residue LYS 233\n",
            "core.conformation.Conformation: [ WARNING ] missing heavyatom:  CG  on residue ASP 350\n",
            "core.conformation.Conformation: [ WARNING ] missing heavyatom:  OD1 on residue ASP 350\n",
            "core.conformation.Conformation: [ WARNING ] missing heavyatom:  OD2 on residue ASP 350\n",
            "core.conformation.Conformation: [ WARNING ] missing heavyatom:  CG  on residue LYS 353\n",
            "core.conformation.Conformation: [ WARNING ] missing heavyatom:  CD  on residue LYS 353\n",
            "core.conformation.Conformation: [ WARNING ] missing heavyatom:  CE  on residue LYS 353\n",
            "core.conformation.Conformation: [ WARNING ] missing heavyatom:  NZ  on residue LYS 353\n",
            "core.conformation.Conformation: [ WARNING ] missing heavyatom:  CG  on residue GLU 354\n",
            "core.conformation.Conformation: [ WARNING ] missing heavyatom:  CD  on residue GLU 354\n",
            "core.conformation.Conformation: [ WARNING ] missing heavyatom:  OE1 on residue GLU 354\n",
            "core.conformation.Conformation: [ WARNING ] missing heavyatom:  OE2 on residue GLU 354\n",
            "core.conformation.Conformation: [ WARNING ] missing heavyatom:  CG  on residue LYS 382\n",
            "core.conformation.Conformation: [ WARNING ] missing heavyatom:  CD  on residue LYS 382\n",
            "core.conformation.Conformation: [ WARNING ] missing heavyatom:  CE  on residue LYS 382\n",
            "core.conformation.Conformation: [ WARNING ] missing heavyatom:  NZ  on residue LYS 382\n",
            "core.conformation.Conformation: [ WARNING ] missing heavyatom:  CG  on residue TYR 454\n",
            "core.conformation.Conformation: [ WARNING ] missing heavyatom:  CD1 on residue TYR 454\n",
            "core.conformation.Conformation: [ WARNING ] missing heavyatom:  CD2 on residue TYR 454\n",
            "core.conformation.Conformation: [ WARNING ] missing heavyatom:  CE1 on residue TYR 454\n",
            "core.conformation.Conformation: [ WARNING ] missing heavyatom:  CE2 on residue TYR 454\n",
            "core.conformation.Conformation: [ WARNING ] missing heavyatom:  CZ  on residue TYR 454\n",
            "core.conformation.Conformation: [ WARNING ] missing heavyatom:  OH  on residue TYR 454\n",
            "core.conformation.Conformation: [ WARNING ] missing heavyatom:  OXT on residue GLY:CtermProteinFull 520\n",
            "core.pack.pack_missing_sidechains: packing residue number 233 because of missing atom number 6 atom name  CG\n",
            "core.pack.pack_missing_sidechains: packing residue number 350 because of missing atom number 6 atom name  CG\n",
            "core.pack.pack_missing_sidechains: packing residue number 353 because of missing atom number 6 atom name  CG\n",
            "core.pack.pack_missing_sidechains: packing residue number 354 because of missing atom number 6 atom name  CG\n",
            "core.pack.pack_missing_sidechains: packing residue number 382 because of missing atom number 6 atom name  CG\n",
            "core.pack.pack_missing_sidechains: packing residue number 454 because of missing atom number 6 atom name  CG\n",
            "core.pack.task: Packer task: initialize from command line()\n",
            "core.scoring.ScoreFunctionFactory: SCOREFUNCTION: ref2015\n",
            "core.pack.pack_rotamers: built 90 rotamers at 6 positions.\n",
            "core.pack.interaction_graph.interaction_graph_factory: Instantiating DensePDInteractionGraph\n"
          ]
        }
      ]
    },
    {
      "cell_type": "markdown",
      "metadata": {
        "id": "oBhE-7UOVy2z"
      },
      "source": [
        "## What is a Pose?"
      ]
    },
    {
      "cell_type": "markdown",
      "metadata": {
        "id": "P1GaTwMzVy2z"
      },
      "source": [
        "The Pose class includes various types of information that describe a structure. Some of the core components include the Energies, PDBInfo, and Conformation. See the Rosetta3 paper to learn more: https://www.sciencedirect.com/science/article/pii/B9780123812704000196\n",
        "\n",
        "As an example, let's use our pose to look at the sequence of 5TJ3:\n",
        "`pose.sequence()`"
      ]
    },
    {
      "cell_type": "code",
      "execution_count": 23,
      "metadata": {
        "deletable": false,
        "id": "TK7sG4hPVy2z",
        "nbgrader": {
          "cell_type": "code",
          "checksum": "c1a8af383ad01ea635153b82575c2c1c",
          "grade": true,
          "grade_id": "cell-61e3c7efb8ae6b94",
          "locked": false,
          "points": 0,
          "schema_version": 3,
          "solution": true
        },
        "colab": {
          "base_uri": "https://localhost:8080/",
          "height": 143
        },
        "outputId": "fccc7d0a-9165-42ff-ee97-d5ffa55bf5f3"
      },
      "outputs": [
        {
          "output_type": "execute_result",
          "data": {
            "text/plain": [
              "'NAVPRPKLVVGLVVDQMRWDYLYRYYSKYGEGGFKRMLNTGYSLNNVHIDYVPTVTAIGHTSIFTGSVPSIHGIAGNDWYDKELGKSVYCTSDETVQPVGTTSNSVGQHSPRNLWSTTVTDQLGLATNFTSKVVGVSLKDRASILPAGHNPTGAFWFDDTTGKFITSTYYTKELPKWVNDFNNKNVPAQLVANGWNTLLPINQYTESSEDNVEWEGLLGSKKTPTFPYTDLAKDYEAKKGLIRTTPFGNTLTLQMADAAIDGNQMGVDDITDFLTVNLASTDYVGHNFGPNSIEVEDTYLRLDRDLADFFNNLDKKVGKGNYLVFLSADHGAAHSVGFMQAHKMPTGFFDMKKEMNAKLKQKFGADNIIAAAMNYQVYFDRKVLADSKLELDDVRDYVMTELKKEPSVLYVLSTDEIWESSIPEPIKSRVINGYNWKRSGDIQIISKDGYLSAYSKKGTTHSVWNSYDSHIPLLFMGWGIKQGESNQPYHMTDIAPTVSSLLKIQFPSGAVGKPITEVIGZZZZ'"
            ],
            "application/vnd.google.colaboratory.intrinsic+json": {
              "type": "string"
            }
          },
          "metadata": {},
          "execution_count": 23
        }
      ],
      "source": [
        "# print out the sequence of the pose\n",
        "# YOUR CODE HERE\n",
        "pose.sequence()\n"
      ]
    },
    {
      "cell_type": "code",
      "source": [
        "pose.sequence()[23]\n"
      ],
      "metadata": {
        "colab": {
          "base_uri": "https://localhost:8080/",
          "height": 35
        },
        "id": "Tt3zrU4OPJND",
        "outputId": "40ea6a2d-1b0e-4fe5-909a-1a1bf9f85680"
      },
      "execution_count": 24,
      "outputs": [
        {
          "output_type": "execute_result",
          "data": {
            "text/plain": [
              "'R'"
            ],
            "application/vnd.google.colaboratory.intrinsic+json": {
              "type": "string"
            }
          },
          "metadata": {},
          "execution_count": 24
        }
      ]
    },
    {
      "cell_type": "markdown",
      "metadata": {
        "id": "cBtPvat-Vy2z"
      },
      "source": [
        "Sometimes PDB files do not conform to standards and need to be cleaned to be loaded successfully with PyRosetta. One way to make sure the file is loaded successfully is to only include the ATOM lines from the PDB file. Alternatively, you could use the cleanATOM function in pyrosetta.toolbox to achieve the same: "
      ]
    },
    {
      "cell_type": "code",
      "execution_count": 25,
      "metadata": {
        "id": "djS8tp9GVy20"
      },
      "outputs": [],
      "source": [
        "from pyrosetta.toolbox import cleanATOM\n",
        "cleanATOM(\"/content/5tj3.pdb\")"
      ]
    },
    {
      "cell_type": "markdown",
      "metadata": {
        "id": "xDnCZrZeVy20"
      },
      "source": [
        "This method will create a cleaned 5tj3.clean.pdb file for you. Lets load this into PyRosetta as well:"
      ]
    },
    {
      "cell_type": "code",
      "execution_count": 102,
      "metadata": {
        "id": "ohk1EVK-Vy20",
        "colab": {
          "base_uri": "https://localhost:8080/"
        },
        "outputId": "9c74873b-8628-4e7e-e230-8a009feabf31"
      },
      "outputs": [
        {
          "output_type": "stream",
          "name": "stdout",
          "text": [
            "core.import_pose.import_pose: File '/content/5tj3.clean.pdb' automatically determined to be of type PDB\n",
            "core.conformation.Conformation: [ WARNING ] missing heavyatom:  CG  on residue LYS 232\n",
            "core.conformation.Conformation: [ WARNING ] missing heavyatom:  CD  on residue LYS 232\n",
            "core.conformation.Conformation: [ WARNING ] missing heavyatom:  CE  on residue LYS 232\n",
            "core.conformation.Conformation: [ WARNING ] missing heavyatom:  NZ  on residue LYS 232\n",
            "core.conformation.Conformation: [ WARNING ] missing heavyatom:  CG  on residue ASP 349\n",
            "core.conformation.Conformation: [ WARNING ] missing heavyatom:  OD1 on residue ASP 349\n",
            "core.conformation.Conformation: [ WARNING ] missing heavyatom:  OD2 on residue ASP 349\n",
            "core.conformation.Conformation: [ WARNING ] missing heavyatom:  CG  on residue LYS 352\n",
            "core.conformation.Conformation: [ WARNING ] missing heavyatom:  CD  on residue LYS 352\n",
            "core.conformation.Conformation: [ WARNING ] missing heavyatom:  CE  on residue LYS 352\n",
            "core.conformation.Conformation: [ WARNING ] missing heavyatom:  NZ  on residue LYS 352\n",
            "core.conformation.Conformation: [ WARNING ] missing heavyatom:  CG  on residue GLU 353\n",
            "core.conformation.Conformation: [ WARNING ] missing heavyatom:  CD  on residue GLU 353\n",
            "core.conformation.Conformation: [ WARNING ] missing heavyatom:  OE1 on residue GLU 353\n",
            "core.conformation.Conformation: [ WARNING ] missing heavyatom:  OE2 on residue GLU 353\n",
            "core.conformation.Conformation: [ WARNING ] missing heavyatom:  CG  on residue LYS 381\n",
            "core.conformation.Conformation: [ WARNING ] missing heavyatom:  CD  on residue LYS 381\n",
            "core.conformation.Conformation: [ WARNING ] missing heavyatom:  CE  on residue LYS 381\n",
            "core.conformation.Conformation: [ WARNING ] missing heavyatom:  NZ  on residue LYS 381\n",
            "core.conformation.Conformation: [ WARNING ] missing heavyatom:  CG  on residue TYR 453\n",
            "core.conformation.Conformation: [ WARNING ] missing heavyatom:  CD1 on residue TYR 453\n",
            "core.conformation.Conformation: [ WARNING ] missing heavyatom:  CD2 on residue TYR 453\n",
            "core.conformation.Conformation: [ WARNING ] missing heavyatom:  CE1 on residue TYR 453\n",
            "core.conformation.Conformation: [ WARNING ] missing heavyatom:  CE2 on residue TYR 453\n",
            "core.conformation.Conformation: [ WARNING ] missing heavyatom:  CZ  on residue TYR 453\n",
            "core.conformation.Conformation: [ WARNING ] missing heavyatom:  OH  on residue TYR 453\n",
            "core.conformation.Conformation: [ WARNING ] missing heavyatom:  OXT on residue GLY:CtermProteinFull 519\n",
            "core.pack.pack_missing_sidechains: packing residue number 232 because of missing atom number 6 atom name  CG\n",
            "core.pack.pack_missing_sidechains: packing residue number 349 because of missing atom number 6 atom name  CG\n",
            "core.pack.pack_missing_sidechains: packing residue number 352 because of missing atom number 6 atom name  CG\n",
            "core.pack.pack_missing_sidechains: packing residue number 353 because of missing atom number 6 atom name  CG\n",
            "core.pack.pack_missing_sidechains: packing residue number 381 because of missing atom number 6 atom name  CG\n",
            "core.pack.pack_missing_sidechains: packing residue number 453 because of missing atom number 6 atom name  CG\n",
            "core.pack.task: Packer task: initialize from command line()\n",
            "core.scoring.ScoreFunctionFactory: SCOREFUNCTION: ref2015\n",
            "core.pack.pack_rotamers: built 90 rotamers at 6 positions.\n",
            "core.pack.interaction_graph.interaction_graph_factory: Instantiating DensePDInteractionGraph\n"
          ]
        }
      ],
      "source": [
        "pose_clean = pose_from_pdb(\"/content/5tj3.clean.pdb\")"
      ]
    },
    {
      "cell_type": "markdown",
      "metadata": {
        "id": "hA3Xc9nSVy20"
      },
      "source": [
        "In our case, we could load in the PDB file for 5tj3 without cleaning it. In fact, we've lost some residues when cleaning the PDB file with cleanATOM. What is the difference in the `sequence` of the `pose_clean` now, compared to before?"
      ]
    },
    {
      "cell_type": "code",
      "execution_count": 27,
      "metadata": {
        "deletable": false,
        "id": "3-AuUnfXVy21",
        "nbgrader": {
          "cell_type": "code",
          "checksum": "231cd82955cb98d2285eaad2d1fc5df8",
          "grade": true,
          "grade_id": "cell-57e06ba64f052592",
          "locked": false,
          "points": 0,
          "schema_version": 3,
          "solution": true
        },
        "colab": {
          "base_uri": "https://localhost:8080/",
          "height": 143
        },
        "outputId": "c31acf20-b6c2-4182-c5cd-e9844b428f05"
      },
      "outputs": [
        {
          "output_type": "execute_result",
          "data": {
            "text/plain": [
              "'NAVPRPKLVVGLVVDQMRWDYLYRYYSKYGEGGFKRMLNTGYSLNNVHIDYVPTVTAIGHTSIFTGSVPSIHGIAGNDWYDKELGKSVYCTSDETVQPVGTTSNSVGQHSPRNLWSTTVTDQLGLATNFTSKVVGVSLKDRASILPAGHNPTGAFWFDDTTGKFITSTYYTKELPKWVNDFNNKNVPAQLVANGWNTLLPINQYTESSEDNVEWEGLLGSKKTPTFPYTDLAKDYEAKKGLIRTTPFGNTLTLQMADAAIDGNQMGVDDITDFLTVNLASTDYVGHNFGPNSIEVEDTYLRLDRDLADFFNNLDKKVGKGNYLVFLSADHGAAHSVGFMQAHKMPTGFFDMKKEMNAKLKQKFGADNIIAAAMNYQVYFDRKVLADSKLELDDVRDYVMTELKKEPSVLYVLSTDEIWESSIPEPIKSRVINGYNWKRSGDIQIISKDGYLSAYSKKGTTHSVWNSYDSHIPLLFMGWGIKQGESNQPYHMTDIAPTVSSLLKIQFPSGAVGKPITEVIGZZZZ'"
            ],
            "application/vnd.google.colaboratory.intrinsic+json": {
              "type": "string"
            }
          },
          "metadata": {},
          "execution_count": 27
        }
      ],
      "source": [
        "# print out the sequence of the pose_clean\n",
        "# YOUR CODE HERE\n",
        "pose.sequence()"
      ]
    },
    {
      "cell_type": "markdown",
      "metadata": {
        "id": "VqoyLs5xVy21"
      },
      "source": [
        "With the function `annotated_sequence` below, we can start to see in more detail what the differences are. Note that non-canonical amino acids and hetatms are spelled out more explicitly now."
      ]
    },
    {
      "cell_type": "code",
      "execution_count": 28,
      "metadata": {
        "id": "q_ALMl-_Vy22",
        "colab": {
          "base_uri": "https://localhost:8080/",
          "height": 160
        },
        "outputId": "22455d05-1959-439d-a97a-e481e7f2770d"
      },
      "outputs": [
        {
          "output_type": "execute_result",
          "data": {
            "text/plain": [
              "'N[ASN:NtermProteinFull]AVPRPKLVVGLVVDQMRWDYLYRYYSKYGEGGFKRMLNTGYSLNNVHIDYVPTVT[THR:phosphorylated]AIGHTSIFTGSVPSIHGIAGNDWYDKELGKSVYCTSDETVQPVGTTSNSVGQHSPRNLWSTTVTDQLGLATNFTSKVVGVSLKDRASILPAGHNPTGAFWFDDTTGKFITSTYYTKELPKWVNDFNNKNVPAQLVANGWNTLLPINQYTESSEDNVEWEGLLGSKKTPTFPYTDLAKDYEAKKGLIRTTPFGNTLTLQMADAAIDGNQMGVDDITDFLTVNLASTDYVGHNFGPNSIEVEDTYLRLDRDLADFFNNLDKKVGKGNYLVFLSADHGAAHSVGFMQAHKMPTGFFDMKKEMNAKLKQKFGADNIIAAAMNYQVYFDRKVLADSKLELDDVRDYVMTELKKEPSVLYVLSTDEIWESSIPEPIKSRVINGYNWKRSGDIQIISKDGYLSAYSKKGTTHSVWNSYDSHIPLLFMGWGIKQGESNQPYHMTDIAPTVSSLLKIQFPSGAVGKPITEVIG[GLY:CtermProteinFull]Z[ZN]Z[ZN]Z[ZN]Z[ZN]'"
            ],
            "application/vnd.google.colaboratory.intrinsic+json": {
              "type": "string"
            }
          },
          "metadata": {},
          "execution_count": 28
        }
      ],
      "source": [
        "pose.annotated_sequence()"
      ]
    },
    {
      "cell_type": "code",
      "execution_count": 29,
      "metadata": {
        "id": "sjdR8fXMVy23",
        "colab": {
          "base_uri": "https://localhost:8080/",
          "height": 160
        },
        "outputId": "77584498-29e2-4fd8-87fc-cac9999e9bd9"
      },
      "outputs": [
        {
          "output_type": "execute_result",
          "data": {
            "text/plain": [
              "'N[ASN:NtermProteinFull]AVPRPKLVVGLVVDQMRWDYLYRYYSKYGEGGFKRMLNTGYSLNNVHIDYVPTVAIGHTSIFTGSVPSIHGIAGNDWYDKELGKSVYCTSDETVQPVGTTSNSVGQHSPRNLWSTTVTDQLGLATNFTSKVVGVSLKDRASILPAGHNPTGAFWFDDTTGKFITSTYYTKELPKWVNDFNNKNVPAQLVANGWNTLLPINQYTESSEDNVEWEGLLGSKKTPTFPYTDLAKDYEAKKGLIRTTPFGNTLTLQMADAAIDGNQMGVDDITDFLTVNLASTDYVGHNFGPNSIEVEDTYLRLDRDLADFFNNLDKKVGKGNYLVFLSADHGAAHSVGFMQAHKMPTGFFDMKKEMNAKLKQKFGADNIIAAAMNYQVYFDRKVLADSKLELDDVRDYVMTELKKEPSVLYVLSTDEIWESSIPEPIKSRVINGYNWKRSGDIQIISKDGYLSAYSKKGTTHSVWNSYDSHIPLLFMGWGIKQGESNQPYHMTDIAPTVSSLLKIQFPSGAVGKPITEVIG[GLY:CtermProteinFull]'"
            ],
            "application/vnd.google.colaboratory.intrinsic+json": {
              "type": "string"
            }
          },
          "metadata": {},
          "execution_count": 29
        }
      ],
      "source": [
        "pose_clean.annotated_sequence()"
      ]
    },
    {
      "cell_type": "markdown",
      "metadata": {
        "id": "fzEems93Vy24"
      },
      "source": [
        "### Exercise 1: Inspecting pose sequences\n",
        "\n",
        "Visually inspect the sequences to find the difference(s) between the `pose_clean.sequence()` and `pose.sequence()`. Were residues removed? Which ones?"
      ]
    },
    {
      "cell_type": "markdown",
      "source": [
        "answer: there was no change in the amino acid residues, but the zinc ions on the end of protein sequence were removed. Also, one of the amino acid residues is not phosophorylated anymore. "
      ],
      "metadata": {
        "id": "2d-YWEWvHcRf"
      }
    },
    {
      "cell_type": "markdown",
      "metadata": {
        "id": "cZRgXPgWVy24"
      },
      "source": [
        "### Bonus Exercise 1: Identifying differences in sequences\n",
        "\n",
        "(Optional) Write a program to automatically find the differences between these two sequences"
      ]
    },
    {
      "cell_type": "code",
      "execution_count": 29,
      "metadata": {
        "id": "hZGy7upSVy25"
      },
      "outputs": [],
      "source": []
    },
    {
      "cell_type": "markdown",
      "metadata": {
        "id": "EJ-17BFiVy25"
      },
      "source": [
        "# Working with Pose residues\n",
        "Keywords: total_residue(), chain(), number(), pdb2pose(), pose2pdb()"
      ]
    },
    {
      "cell_type": "code",
      "execution_count": 30,
      "metadata": {
        "id": "QS6qw8RnVy25",
        "colab": {
          "base_uri": "https://localhost:8080/"
        },
        "outputId": "552a95bc-7ba6-49e2-dab1-36d68592f59e"
      },
      "outputs": [
        {
          "output_type": "stream",
          "name": "stdout",
          "text": [
            "core.import_pose.import_pose: File '/content/5tj3.pdb' automatically determined to be of type PDB\n",
            "core.conformation.Conformation: [ WARNING ] missing heavyatom:  CG  on residue LYS 233\n",
            "core.conformation.Conformation: [ WARNING ] missing heavyatom:  CD  on residue LYS 233\n",
            "core.conformation.Conformation: [ WARNING ] missing heavyatom:  CE  on residue LYS 233\n",
            "core.conformation.Conformation: [ WARNING ] missing heavyatom:  NZ  on residue LYS 233\n",
            "core.conformation.Conformation: [ WARNING ] missing heavyatom:  CG  on residue ASP 350\n",
            "core.conformation.Conformation: [ WARNING ] missing heavyatom:  OD1 on residue ASP 350\n",
            "core.conformation.Conformation: [ WARNING ] missing heavyatom:  OD2 on residue ASP 350\n",
            "core.conformation.Conformation: [ WARNING ] missing heavyatom:  CG  on residue LYS 353\n",
            "core.conformation.Conformation: [ WARNING ] missing heavyatom:  CD  on residue LYS 353\n",
            "core.conformation.Conformation: [ WARNING ] missing heavyatom:  CE  on residue LYS 353\n",
            "core.conformation.Conformation: [ WARNING ] missing heavyatom:  NZ  on residue LYS 353\n",
            "core.conformation.Conformation: [ WARNING ] missing heavyatom:  CG  on residue GLU 354\n",
            "core.conformation.Conformation: [ WARNING ] missing heavyatom:  CD  on residue GLU 354\n",
            "core.conformation.Conformation: [ WARNING ] missing heavyatom:  OE1 on residue GLU 354\n",
            "core.conformation.Conformation: [ WARNING ] missing heavyatom:  OE2 on residue GLU 354\n",
            "core.conformation.Conformation: [ WARNING ] missing heavyatom:  CG  on residue LYS 382\n",
            "core.conformation.Conformation: [ WARNING ] missing heavyatom:  CD  on residue LYS 382\n",
            "core.conformation.Conformation: [ WARNING ] missing heavyatom:  CE  on residue LYS 382\n",
            "core.conformation.Conformation: [ WARNING ] missing heavyatom:  NZ  on residue LYS 382\n",
            "core.conformation.Conformation: [ WARNING ] missing heavyatom:  CG  on residue TYR 454\n",
            "core.conformation.Conformation: [ WARNING ] missing heavyatom:  CD1 on residue TYR 454\n",
            "core.conformation.Conformation: [ WARNING ] missing heavyatom:  CD2 on residue TYR 454\n",
            "core.conformation.Conformation: [ WARNING ] missing heavyatom:  CE1 on residue TYR 454\n",
            "core.conformation.Conformation: [ WARNING ] missing heavyatom:  CE2 on residue TYR 454\n",
            "core.conformation.Conformation: [ WARNING ] missing heavyatom:  CZ  on residue TYR 454\n",
            "core.conformation.Conformation: [ WARNING ] missing heavyatom:  OH  on residue TYR 454\n",
            "core.conformation.Conformation: [ WARNING ] missing heavyatom:  OXT on residue GLY:CtermProteinFull 520\n",
            "core.pack.pack_missing_sidechains: packing residue number 233 because of missing atom number 6 atom name  CG\n",
            "core.pack.pack_missing_sidechains: packing residue number 350 because of missing atom number 6 atom name  CG\n",
            "core.pack.pack_missing_sidechains: packing residue number 353 because of missing atom number 6 atom name  CG\n",
            "core.pack.pack_missing_sidechains: packing residue number 354 because of missing atom number 6 atom name  CG\n",
            "core.pack.pack_missing_sidechains: packing residue number 382 because of missing atom number 6 atom name  CG\n",
            "core.pack.pack_missing_sidechains: packing residue number 454 because of missing atom number 6 atom name  CG\n",
            "core.pack.task: Packer task: initialize from command line()\n",
            "core.scoring.ScoreFunctionFactory: SCOREFUNCTION: ref2015\n",
            "core.pack.pack_rotamers: built 90 rotamers at 6 positions.\n",
            "core.pack.interaction_graph.interaction_graph_factory: Instantiating DensePDInteractionGraph\n",
            "core.import_pose.import_pose: File '/content/5tj3.clean.pdb' automatically determined to be of type PDB\n",
            "core.conformation.Conformation: [ WARNING ] missing heavyatom:  CG  on residue LYS 232\n",
            "core.conformation.Conformation: [ WARNING ] missing heavyatom:  CD  on residue LYS 232\n",
            "core.conformation.Conformation: [ WARNING ] missing heavyatom:  CE  on residue LYS 232\n",
            "core.conformation.Conformation: [ WARNING ] missing heavyatom:  NZ  on residue LYS 232\n",
            "core.conformation.Conformation: [ WARNING ] missing heavyatom:  CG  on residue ASP 349\n",
            "core.conformation.Conformation: [ WARNING ] missing heavyatom:  OD1 on residue ASP 349\n",
            "core.conformation.Conformation: [ WARNING ] missing heavyatom:  OD2 on residue ASP 349\n",
            "core.conformation.Conformation: [ WARNING ] missing heavyatom:  CG  on residue LYS 352\n",
            "core.conformation.Conformation: [ WARNING ] missing heavyatom:  CD  on residue LYS 352\n",
            "core.conformation.Conformation: [ WARNING ] missing heavyatom:  CE  on residue LYS 352\n",
            "core.conformation.Conformation: [ WARNING ] missing heavyatom:  NZ  on residue LYS 352\n",
            "core.conformation.Conformation: [ WARNING ] missing heavyatom:  CG  on residue GLU 353\n",
            "core.conformation.Conformation: [ WARNING ] missing heavyatom:  CD  on residue GLU 353\n",
            "core.conformation.Conformation: [ WARNING ] missing heavyatom:  OE1 on residue GLU 353\n",
            "core.conformation.Conformation: [ WARNING ] missing heavyatom:  OE2 on residue GLU 353\n",
            "core.conformation.Conformation: [ WARNING ] missing heavyatom:  CG  on residue LYS 381\n",
            "core.conformation.Conformation: [ WARNING ] missing heavyatom:  CD  on residue LYS 381\n",
            "core.conformation.Conformation: [ WARNING ] missing heavyatom:  CE  on residue LYS 381\n",
            "core.conformation.Conformation: [ WARNING ] missing heavyatom:  NZ  on residue LYS 381\n",
            "core.conformation.Conformation: [ WARNING ] missing heavyatom:  CG  on residue TYR 453\n",
            "core.conformation.Conformation: [ WARNING ] missing heavyatom:  CD1 on residue TYR 453\n",
            "core.conformation.Conformation: [ WARNING ] missing heavyatom:  CD2 on residue TYR 453\n",
            "core.conformation.Conformation: [ WARNING ] missing heavyatom:  CE1 on residue TYR 453\n",
            "core.conformation.Conformation: [ WARNING ] missing heavyatom:  CE2 on residue TYR 453\n",
            "core.conformation.Conformation: [ WARNING ] missing heavyatom:  CZ  on residue TYR 453\n",
            "core.conformation.Conformation: [ WARNING ] missing heavyatom:  OH  on residue TYR 453\n",
            "core.conformation.Conformation: [ WARNING ] missing heavyatom:  OXT on residue GLY:CtermProteinFull 519\n",
            "core.pack.pack_missing_sidechains: packing residue number 232 because of missing atom number 6 atom name  CG\n",
            "core.pack.pack_missing_sidechains: packing residue number 349 because of missing atom number 6 atom name  CG\n",
            "core.pack.pack_missing_sidechains: packing residue number 352 because of missing atom number 6 atom name  CG\n",
            "core.pack.pack_missing_sidechains: packing residue number 353 because of missing atom number 6 atom name  CG\n",
            "core.pack.pack_missing_sidechains: packing residue number 381 because of missing atom number 6 atom name  CG\n",
            "core.pack.pack_missing_sidechains: packing residue number 453 because of missing atom number 6 atom name  CG\n",
            "core.pack.task: Packer task: initialize from command line()\n",
            "core.scoring.ScoreFunctionFactory: SCOREFUNCTION: ref2015\n",
            "core.pack.pack_rotamers: built 90 rotamers at 6 positions.\n",
            "core.pack.interaction_graph.interaction_graph_factory: Instantiating DensePDInteractionGraph\n"
          ]
        }
      ],
      "source": [
        "pose = pose_from_pdb(\"/content/5tj3.pdb\")\n",
        "pose_clean = pose_from_pdb(\"/content/5tj3.clean.pdb\")"
      ]
    },
    {
      "cell_type": "markdown",
      "metadata": {
        "id": "gNye1yGfVy25"
      },
      "source": [
        "   We can use methods in `Pose` to count residues and pick out residues from the pose. Remember that `Pose` is a python class, and to access methods it implements, you need an instance of the class (here `pose` or `pose_clean`) and you then use a dot after the instance."
      ]
    },
    {
      "cell_type": "code",
      "execution_count": 31,
      "metadata": {
        "id": "AzX691qRVy26",
        "colab": {
          "base_uri": "https://localhost:8080/"
        },
        "outputId": "688e95f3-64e9-4f3a-e03d-1704bbbe3e4b"
      },
      "outputs": [
        {
          "output_type": "stream",
          "name": "stdout",
          "text": [
            "524\n",
            "519\n"
          ]
        }
      ],
      "source": [
        "print(pose.total_residue())\n",
        "print(pose_clean.total_residue())\n",
        "# Did you catch all the missing residues before?"
      ]
    },
    {
      "cell_type": "markdown",
      "metadata": {
        "id": "l6-g7g2SVy26"
      },
      "source": [
        " Store the `Residue` information for residue 20 of the pose by using the `pose.residue(20)` function."
      ]
    },
    {
      "cell_type": "code",
      "execution_count": 32,
      "metadata": {
        "deletable": false,
        "id": "L817anpeVy26",
        "nbgrader": {
          "cell_type": "code",
          "checksum": "05b8fd10fd1c21fdbffacf311ee02cbc",
          "grade": true,
          "grade_id": "cell-b4a65f9eb1e72d02",
          "locked": false,
          "points": 0,
          "schema_version": 3,
          "solution": true
        },
        "colab": {
          "base_uri": "https://localhost:8080/"
        },
        "outputId": "5f59a25d-efce-44e3-a475-5856fa154bf1"
      },
      "outputs": [
        {
          "output_type": "stream",
          "name": "stdout",
          "text": [
            "ASP\n"
          ]
        }
      ],
      "source": [
        "residue20 = pose.residue(20)\n",
        "print(residue20.name())"
      ]
    },
    {
      "cell_type": "markdown",
      "metadata": {
        "id": "skgDJ5hjVy26"
      },
      "source": [
        "## Exercise 2: Residue objects\n",
        "\n",
        "Use the `pose`'s `.residue()` object to get the 24th residue of the protein pose. What is the 24th residue in the PDB file (look in the PDB file)? Are they the same residue?"
      ]
    },
    {
      "cell_type": "code",
      "execution_count": 33,
      "metadata": {
        "code_folding": [],
        "deletable": false,
        "id": "7hnz7KjgVy27",
        "nbgrader": {
          "cell_type": "code",
          "checksum": "6d95d121eddc3d59c869259e3916fded",
          "grade": true,
          "grade_id": "cell-0b423c45607a85e0",
          "locked": false,
          "points": 0,
          "schema_version": 3,
          "solution": true
        },
        "colab": {
          "base_uri": "https://localhost:8080/"
        },
        "outputId": "c6449997-e464-4557-c4e4-844c784c22bd"
      },
      "outputs": [
        {
          "output_type": "stream",
          "name": "stdout",
          "text": [
            "ARG\n"
          ]
        }
      ],
      "source": [
        "# store the 24th residue in the pose into a variable (see residue20 example above)\n",
        "# YOUR CODE HERE\n",
        "\n",
        "residue24 = pose.residue(24)\n",
        "print(residue24.name())\n"
      ]
    },
    {
      "cell_type": "code",
      "execution_count": 34,
      "metadata": {
        "code_folding": [],
        "id": "-ayeNbZDVy27",
        "colab": {
          "base_uri": "https://localhost:8080/"
        },
        "outputId": "5dc92382-ef3d-444c-c941-a4d831cb5a40"
      },
      "outputs": [
        {
          "output_type": "execute_result",
          "data": {
            "text/plain": [
              "<bound method PyCapsule.Haro_index of <pyrosetta.rosetta.core.conformation.Residue object at 0x7f549a141e30>>"
            ]
          },
          "metadata": {},
          "execution_count": 34
        }
      ],
      "source": [
        "# what other methods are attached to that Residue object? (type \"residue24.\" and hit Tab to see a list of commands)\n",
        "residue24.Haro_index"
      ]
    },
    {
      "cell_type": "markdown",
      "source": [
        "haro_index"
      ],
      "metadata": {
        "id": "N8uU7wtLQCwr"
      }
    },
    {
      "cell_type": "markdown",
      "metadata": {
        "id": "wJ7RT7iUVy27"
      },
      "source": [
        "We can immediately see that the numbering PyRosetta internally uses for pose residues is different from the PDB file. The information corresponding to the PDB file can be accessed through the `pose.pdb_info()` object."
      ]
    },
    {
      "cell_type": "code",
      "execution_count": 35,
      "metadata": {
        "id": "cxp7G9ubVy27",
        "colab": {
          "base_uri": "https://localhost:8080/"
        },
        "outputId": "2c5b0ea8-55cb-4e86-fbfc-babad3bbe78a"
      },
      "outputs": [
        {
          "output_type": "stream",
          "name": "stdout",
          "text": [
            "A\n",
            "47\n"
          ]
        }
      ],
      "source": [
        "print(pose.pdb_info().chain(24))\n",
        "print(pose.pdb_info().number(24))"
      ]
    },
    {
      "cell_type": "markdown",
      "metadata": {
        "id": "BfbvHoWtVy27"
      },
      "source": [
        "By using the `pdb2pose` method in `pdb_info()`, we can turn PDB numbering (which requires a chain ID and a residue number) into Pose numbering"
      ]
    },
    {
      "cell_type": "code",
      "execution_count": 36,
      "metadata": {
        "code_folding": [],
        "id": "ba7Q7WK-Vy28",
        "colab": {
          "base_uri": "https://localhost:8080/"
        },
        "outputId": "633a8d1e-e946-4960-8fe5-62bec0ff8ae6"
      },
      "outputs": [
        {
          "output_type": "stream",
          "name": "stdout",
          "text": [
            "1\n"
          ]
        }
      ],
      "source": [
        "# PDB numbering to Pose numbering\n",
        "print(pose.pdb_info().pdb2pose('A', 24))"
      ]
    },
    {
      "cell_type": "markdown",
      "metadata": {
        "id": "8Kx-pCQMVy28"
      },
      "source": [
        "Use the `pose2pdb` method in `pdb_info()` to see what is the corresponding PDB chain and residue ID for pose residue number 24"
      ]
    },
    {
      "cell_type": "code",
      "execution_count": 37,
      "metadata": {
        "code_folding": [],
        "id": "DzaCmwSNVy28"
      },
      "outputs": [],
      "source": [
        "# Pose numbering to PDB numbering"
      ]
    },
    {
      "cell_type": "code",
      "execution_count": 38,
      "metadata": {
        "deletable": false,
        "id": "6nuQVjQlVy28",
        "nbgrader": {
          "cell_type": "code",
          "checksum": "309cd8a058823fe1abab7d02ee273613",
          "grade": true,
          "grade_id": "cell-eb3b845928c9313f",
          "locked": false,
          "points": 0,
          "schema_version": 3,
          "solution": true
        },
        "colab": {
          "base_uri": "https://localhost:8080/"
        },
        "outputId": "81f08f1d-8395-47bf-96e8-d1e56f379178"
      },
      "outputs": [
        {
          "output_type": "stream",
          "name": "stdout",
          "text": [
            "24 A \n"
          ]
        }
      ],
      "source": [
        "# YOUR CODE HERE\n",
        "print(pose.pdb_info().pose2pdb(1))"
      ]
    },
    {
      "cell_type": "markdown",
      "metadata": {
        "id": "19vgFWRkVy29"
      },
      "source": [
        "Now we can see how to examine the identity of a residue by PDB chain and residue number.\n",
        "\n",
        "Once we get a residue, there are various methods in the `Residue` class that might be for running analysis. We can get instances of the `Residue` class from `Pose`. For instance, we can do the following:"
      ]
    },
    {
      "cell_type": "code",
      "execution_count": 39,
      "metadata": {
        "id": "LFfsb_hWVy29",
        "colab": {
          "base_uri": "https://localhost:8080/"
        },
        "outputId": "7e5569de-86b8-4453-b7c9-3d80dae28f07"
      },
      "outputs": [
        {
          "output_type": "stream",
          "name": "stdout",
          "text": [
            "ARG\n",
            "True\n"
          ]
        }
      ],
      "source": [
        "res_24 = pose.residue(24)\n",
        "print(res_24.name())\n",
        "print(res_24.is_charged())"
      ]
    },
    {
      "cell_type": "code",
      "execution_count": 39,
      "metadata": {
        "id": "XksexTVRVy29"
      },
      "outputs": [],
      "source": []
    },
    {
      "cell_type": "markdown",
      "metadata": {
        "id": "P0Eh4VR0Vy29"
      },
      "source": [
        "# Accessing PyRosetta Documentation\n",
        "Keywords: help()"
      ]
    },
    {
      "cell_type": "code",
      "execution_count": 40,
      "metadata": {
        "id": "FGsSR204Vy29",
        "colab": {
          "base_uri": "https://localhost:8080/"
        },
        "outputId": "83339233-ad9a-4b0b-adbf-17b954095d12"
      },
      "outputs": [
        {
          "output_type": "stream",
          "name": "stdout",
          "text": [
            "core.import_pose.import_pose: File '/content/5tj3.pdb' automatically determined to be of type PDB\n",
            "core.conformation.Conformation: [ WARNING ] missing heavyatom:  CG  on residue LYS 233\n",
            "core.conformation.Conformation: [ WARNING ] missing heavyatom:  CD  on residue LYS 233\n",
            "core.conformation.Conformation: [ WARNING ] missing heavyatom:  CE  on residue LYS 233\n",
            "core.conformation.Conformation: [ WARNING ] missing heavyatom:  NZ  on residue LYS 233\n",
            "core.conformation.Conformation: [ WARNING ] missing heavyatom:  CG  on residue ASP 350\n",
            "core.conformation.Conformation: [ WARNING ] missing heavyatom:  OD1 on residue ASP 350\n",
            "core.conformation.Conformation: [ WARNING ] missing heavyatom:  OD2 on residue ASP 350\n",
            "core.conformation.Conformation: [ WARNING ] missing heavyatom:  CG  on residue LYS 353\n",
            "core.conformation.Conformation: [ WARNING ] missing heavyatom:  CD  on residue LYS 353\n",
            "core.conformation.Conformation: [ WARNING ] missing heavyatom:  CE  on residue LYS 353\n",
            "core.conformation.Conformation: [ WARNING ] missing heavyatom:  NZ  on residue LYS 353\n",
            "core.conformation.Conformation: [ WARNING ] missing heavyatom:  CG  on residue GLU 354\n",
            "core.conformation.Conformation: [ WARNING ] missing heavyatom:  CD  on residue GLU 354\n",
            "core.conformation.Conformation: [ WARNING ] missing heavyatom:  OE1 on residue GLU 354\n",
            "core.conformation.Conformation: [ WARNING ] missing heavyatom:  OE2 on residue GLU 354\n",
            "core.conformation.Conformation: [ WARNING ] missing heavyatom:  CG  on residue LYS 382\n",
            "core.conformation.Conformation: [ WARNING ] missing heavyatom:  CD  on residue LYS 382\n",
            "core.conformation.Conformation: [ WARNING ] missing heavyatom:  CE  on residue LYS 382\n",
            "core.conformation.Conformation: [ WARNING ] missing heavyatom:  NZ  on residue LYS 382\n",
            "core.conformation.Conformation: [ WARNING ] missing heavyatom:  CG  on residue TYR 454\n",
            "core.conformation.Conformation: [ WARNING ] missing heavyatom:  CD1 on residue TYR 454\n",
            "core.conformation.Conformation: [ WARNING ] missing heavyatom:  CD2 on residue TYR 454\n",
            "core.conformation.Conformation: [ WARNING ] missing heavyatom:  CE1 on residue TYR 454\n",
            "core.conformation.Conformation: [ WARNING ] missing heavyatom:  CE2 on residue TYR 454\n",
            "core.conformation.Conformation: [ WARNING ] missing heavyatom:  CZ  on residue TYR 454\n",
            "core.conformation.Conformation: [ WARNING ] missing heavyatom:  OH  on residue TYR 454\n",
            "core.conformation.Conformation: [ WARNING ] missing heavyatom:  OXT on residue GLY:CtermProteinFull 520\n",
            "core.pack.pack_missing_sidechains: packing residue number 233 because of missing atom number 6 atom name  CG\n",
            "core.pack.pack_missing_sidechains: packing residue number 350 because of missing atom number 6 atom name  CG\n",
            "core.pack.pack_missing_sidechains: packing residue number 353 because of missing atom number 6 atom name  CG\n",
            "core.pack.pack_missing_sidechains: packing residue number 354 because of missing atom number 6 atom name  CG\n",
            "core.pack.pack_missing_sidechains: packing residue number 382 because of missing atom number 6 atom name  CG\n",
            "core.pack.pack_missing_sidechains: packing residue number 454 because of missing atom number 6 atom name  CG\n",
            "core.pack.task: Packer task: initialize from command line()\n",
            "core.scoring.ScoreFunctionFactory: SCOREFUNCTION: ref2015\n",
            "core.pack.pack_rotamers: built 90 rotamers at 6 positions.\n",
            "core.pack.interaction_graph.interaction_graph_factory: Instantiating DensePDInteractionGraph\n"
          ]
        }
      ],
      "source": [
        "pose = pose_from_pdb(\"/content/5tj3.pdb\")"
      ]
    },
    {
      "cell_type": "markdown",
      "metadata": {
        "id": "tJGdxvFbVy2-"
      },
      "source": [
        "The full documentaton for PyRosetta can be found here: https://graylab.jhu.edu/PyRosetta.documentation/. You can use it to search for or learn more about any method in PyRosetta.\n",
        "\n",
        "One benefit of working within Jupyter notebooks is that we can make use of its autocomplete features. To see an example, try typing `res_24.is_` and pressing `tab` to find other features of residues you can examine. Note that you can scroll down to see more features."
      ]
    },
    {
      "cell_type": "code",
      "execution_count": 41,
      "metadata": {
        "id": "tAC7POVFVy2-",
        "colab": {
          "base_uri": "https://localhost:8080/"
        },
        "outputId": "5e35222f-5710-4d3a-ff61-1e75e82fc796"
      },
      "outputs": [
        {
          "output_type": "execute_result",
          "data": {
            "text/plain": [
              "<bound method PyCapsule.is_DNA of <pyrosetta.rosetta.core.conformation.Residue object at 0x7f549a141e30>>"
            ]
          },
          "metadata": {},
          "execution_count": 41
        }
      ],
      "source": [
        "res_24.is_DNA"
      ]
    },
    {
      "cell_type": "markdown",
      "metadata": {
        "id": "zBJ0TgwKVy2-"
      },
      "source": [
        "Now that we've looked through those functions, we know how to confirm that PyRosetta has loaded in the zinc ions as metal ions. "
      ]
    },
    {
      "cell_type": "code",
      "execution_count": 42,
      "metadata": {
        "id": "Lu2QLQd3Vy2-",
        "colab": {
          "base_uri": "https://localhost:8080/"
        },
        "outputId": "c39137e8-e189-40d2-e8f6-f334f7908351"
      },
      "outputs": [
        {
          "output_type": "execute_result",
          "data": {
            "text/plain": [
              "True"
            ]
          },
          "metadata": {},
          "execution_count": 42
        }
      ],
      "source": [
        "zn_resid = pose.pdb_info().pdb2pose('A', 601)\n",
        "res_zn = pose.residue(zn_resid) \n",
        "res_zn.is_metal() "
      ]
    },
    {
      "cell_type": "markdown",
      "metadata": {
        "id": "mx_sQmOyVy2_"
      },
      "source": [
        "## Exercise 3: Python Object Help\n",
        "We can also explore documentation for objects and methods from Jupyter notebooks. Say you wanted to find out more about the Pose object. Try typing in `Pose?`, `?Pose` or `help(Pose)`."
      ]
    },
    {
      "cell_type": "code",
      "execution_count": 43,
      "metadata": {
        "id": "27TomY_fVy2_"
      },
      "outputs": [],
      "source": [
        "?Pose"
      ]
    },
    {
      "cell_type": "markdown",
      "metadata": {
        "id": "sPel5arBVy2_"
      },
      "source": [
        "By the way, now if you ever go on to develop some PyRosetta functions, you can see the importance of docstrings!\n",
        "\n",
        "This works for PyRosetta methods as well:"
      ]
    },
    {
      "cell_type": "code",
      "execution_count": 44,
      "metadata": {
        "id": "PBCWj2VpVy2_"
      },
      "outputs": [],
      "source": [
        "res_24 = pose.residue(24)\n",
        "res_24.atom_index?"
      ]
    },
    {
      "cell_type": "markdown",
      "metadata": {
        "id": "LfcJeTT_Vy2_"
      },
      "source": [
        "## Exercise 4: Some residue commands\n",
        "\n",
        "Now use the `atom_index` method and the method below to find out whether the \"CA\" atom in res_24 is a backbone atom. "
      ]
    },
    {
      "cell_type": "code",
      "execution_count": 45,
      "metadata": {
        "id": "CBeSk6vCVy3A"
      },
      "outputs": [],
      "source": [
        "# Uncomment this line:\n",
        "res_24.atom_is_backbone?"
      ]
    },
    {
      "cell_type": "code",
      "execution_count": 46,
      "metadata": {
        "deletable": false,
        "id": "IJAwOdHwVy3A",
        "nbgrader": {
          "cell_type": "code",
          "checksum": "f03a23ca93d9178f53346698802cdb63",
          "grade": true,
          "grade_id": "cell-64267b10056ef3b7",
          "locked": false,
          "points": 0,
          "schema_version": 3,
          "solution": true
        },
        "colab": {
          "base_uri": "https://localhost:8080/"
        },
        "outputId": "2862fac1-2d54-41aa-ba08-7a5b2803ac00"
      },
      "outputs": [
        {
          "output_type": "execute_result",
          "data": {
            "text/plain": [
              "True"
            ]
          },
          "metadata": {},
          "execution_count": 46
        }
      ],
      "source": [
        "# YOUR CODE HERE\n",
        "res_24.atom_is_backbone(res_24.atom_index(\"CA\"))"
      ]
    },
    {
      "cell_type": "code",
      "execution_count": 46,
      "metadata": {
        "id": "z0-JSjb-Vy3A"
      },
      "outputs": [],
      "source": []
    },
    {
      "cell_type": "markdown",
      "metadata": {
        "id": "OeZr-2tFVy3A"
      },
      "source": [
        "# Getting spatial features from a Pose\n",
        "Keywords: conformation(), bond_length(), AtomID, atom_index()"
      ]
    },
    {
      "cell_type": "code",
      "execution_count": 47,
      "metadata": {
        "id": "FzDNEegFVy3C",
        "colab": {
          "base_uri": "https://localhost:8080/"
        },
        "outputId": "3e70a33f-b43c-427c-9ff9-a4d354a5eacd"
      },
      "outputs": [
        {
          "output_type": "stream",
          "name": "stdout",
          "text": [
            "core.import_pose.import_pose: File '/content/5tj3.pdb' automatically determined to be of type PDB\n",
            "core.conformation.Conformation: [ WARNING ] missing heavyatom:  CG  on residue LYS 233\n",
            "core.conformation.Conformation: [ WARNING ] missing heavyatom:  CD  on residue LYS 233\n",
            "core.conformation.Conformation: [ WARNING ] missing heavyatom:  CE  on residue LYS 233\n",
            "core.conformation.Conformation: [ WARNING ] missing heavyatom:  NZ  on residue LYS 233\n",
            "core.conformation.Conformation: [ WARNING ] missing heavyatom:  CG  on residue ASP 350\n",
            "core.conformation.Conformation: [ WARNING ] missing heavyatom:  OD1 on residue ASP 350\n",
            "core.conformation.Conformation: [ WARNING ] missing heavyatom:  OD2 on residue ASP 350\n",
            "core.conformation.Conformation: [ WARNING ] missing heavyatom:  CG  on residue LYS 353\n",
            "core.conformation.Conformation: [ WARNING ] missing heavyatom:  CD  on residue LYS 353\n",
            "core.conformation.Conformation: [ WARNING ] missing heavyatom:  CE  on residue LYS 353\n",
            "core.conformation.Conformation: [ WARNING ] missing heavyatom:  NZ  on residue LYS 353\n",
            "core.conformation.Conformation: [ WARNING ] missing heavyatom:  CG  on residue GLU 354\n",
            "core.conformation.Conformation: [ WARNING ] missing heavyatom:  CD  on residue GLU 354\n",
            "core.conformation.Conformation: [ WARNING ] missing heavyatom:  OE1 on residue GLU 354\n",
            "core.conformation.Conformation: [ WARNING ] missing heavyatom:  OE2 on residue GLU 354\n",
            "core.conformation.Conformation: [ WARNING ] missing heavyatom:  CG  on residue LYS 382\n",
            "core.conformation.Conformation: [ WARNING ] missing heavyatom:  CD  on residue LYS 382\n",
            "core.conformation.Conformation: [ WARNING ] missing heavyatom:  CE  on residue LYS 382\n",
            "core.conformation.Conformation: [ WARNING ] missing heavyatom:  NZ  on residue LYS 382\n",
            "core.conformation.Conformation: [ WARNING ] missing heavyatom:  CG  on residue TYR 454\n",
            "core.conformation.Conformation: [ WARNING ] missing heavyatom:  CD1 on residue TYR 454\n",
            "core.conformation.Conformation: [ WARNING ] missing heavyatom:  CD2 on residue TYR 454\n",
            "core.conformation.Conformation: [ WARNING ] missing heavyatom:  CE1 on residue TYR 454\n",
            "core.conformation.Conformation: [ WARNING ] missing heavyatom:  CE2 on residue TYR 454\n",
            "core.conformation.Conformation: [ WARNING ] missing heavyatom:  CZ  on residue TYR 454\n",
            "core.conformation.Conformation: [ WARNING ] missing heavyatom:  OH  on residue TYR 454\n",
            "core.conformation.Conformation: [ WARNING ] missing heavyatom:  OXT on residue GLY:CtermProteinFull 520\n",
            "core.pack.pack_missing_sidechains: packing residue number 233 because of missing atom number 6 atom name  CG\n",
            "core.pack.pack_missing_sidechains: packing residue number 350 because of missing atom number 6 atom name  CG\n",
            "core.pack.pack_missing_sidechains: packing residue number 353 because of missing atom number 6 atom name  CG\n",
            "core.pack.pack_missing_sidechains: packing residue number 354 because of missing atom number 6 atom name  CG\n",
            "core.pack.pack_missing_sidechains: packing residue number 382 because of missing atom number 6 atom name  CG\n",
            "core.pack.pack_missing_sidechains: packing residue number 454 because of missing atom number 6 atom name  CG\n",
            "core.pack.task: Packer task: initialize from command line()\n",
            "core.scoring.ScoreFunctionFactory: SCOREFUNCTION: ref2015\n",
            "core.pack.pack_rotamers: built 90 rotamers at 6 positions.\n",
            "core.pack.interaction_graph.interaction_graph_factory: Instantiating DensePDInteractionGraph\n"
          ]
        }
      ],
      "source": [
        "pose = pose_from_pdb(\"/content/5tj3.pdb\")"
      ]
    },
    {
      "cell_type": "code",
      "execution_count": 70,
      "metadata": {
        "id": "h--w-Yp4Vy3C",
        "colab": {
          "base_uri": "https://localhost:8080/",
          "height": 958
        },
        "outputId": "871d33c4-d535-4f75-f74b-5dfad6f440a0"
      },
      "outputs": [
        {
          "output_type": "error",
          "ename": "FileNotFoundError",
          "evalue": "ignored",
          "traceback": [
            "\u001b[0;31m---------------------------------------------------------------------------\u001b[0m",
            "\u001b[0;31mTypeError\u001b[0m                                 Traceback (most recent call last)",
            "\u001b[0;32m/usr/local/lib/python3.10/dist-packages/IPython/core/display.py\u001b[0m in \u001b[0;36m_data_and_metadata\u001b[0;34m(self, always_both)\u001b[0m\n\u001b[1;32m   1299\u001b[0m         \u001b[0;32mtry\u001b[0m\u001b[0;34m:\u001b[0m\u001b[0;34m\u001b[0m\u001b[0;34m\u001b[0m\u001b[0m\n\u001b[0;32m-> 1300\u001b[0;31m             \u001b[0mb64_data\u001b[0m \u001b[0;34m=\u001b[0m \u001b[0mb2a_base64\u001b[0m\u001b[0;34m(\u001b[0m\u001b[0mself\u001b[0m\u001b[0;34m.\u001b[0m\u001b[0mdata\u001b[0m\u001b[0;34m)\u001b[0m\u001b[0;34m.\u001b[0m\u001b[0mdecode\u001b[0m\u001b[0;34m(\u001b[0m\u001b[0;34m'ascii'\u001b[0m\u001b[0;34m)\u001b[0m\u001b[0;34m\u001b[0m\u001b[0;34m\u001b[0m\u001b[0m\n\u001b[0m\u001b[1;32m   1301\u001b[0m         \u001b[0;32mexcept\u001b[0m \u001b[0mTypeError\u001b[0m\u001b[0;34m:\u001b[0m\u001b[0;34m\u001b[0m\u001b[0;34m\u001b[0m\u001b[0m\n",
            "\u001b[0;31mTypeError\u001b[0m: a bytes-like object is required, not 'str'",
            "\nDuring handling of the above exception, another exception occurred:\n",
            "\u001b[0;31mFileNotFoundError\u001b[0m                         Traceback (most recent call last)",
            "\u001b[0;32m/usr/local/lib/python3.10/dist-packages/IPython/core/formatters.py\u001b[0m in \u001b[0;36m__call__\u001b[0;34m(self, obj, include, exclude)\u001b[0m\n\u001b[1;32m    968\u001b[0m \u001b[0;34m\u001b[0m\u001b[0m\n\u001b[1;32m    969\u001b[0m             \u001b[0;32mif\u001b[0m \u001b[0mmethod\u001b[0m \u001b[0;32mis\u001b[0m \u001b[0;32mnot\u001b[0m \u001b[0;32mNone\u001b[0m\u001b[0;34m:\u001b[0m\u001b[0;34m\u001b[0m\u001b[0;34m\u001b[0m\u001b[0m\n\u001b[0;32m--> 970\u001b[0;31m                 \u001b[0;32mreturn\u001b[0m \u001b[0mmethod\u001b[0m\u001b[0;34m(\u001b[0m\u001b[0minclude\u001b[0m\u001b[0;34m=\u001b[0m\u001b[0minclude\u001b[0m\u001b[0;34m,\u001b[0m \u001b[0mexclude\u001b[0m\u001b[0;34m=\u001b[0m\u001b[0mexclude\u001b[0m\u001b[0;34m)\u001b[0m\u001b[0;34m\u001b[0m\u001b[0;34m\u001b[0m\u001b[0m\n\u001b[0m\u001b[1;32m    971\u001b[0m             \u001b[0;32mreturn\u001b[0m \u001b[0;32mNone\u001b[0m\u001b[0;34m\u001b[0m\u001b[0;34m\u001b[0m\u001b[0m\n\u001b[1;32m    972\u001b[0m         \u001b[0;32melse\u001b[0m\u001b[0;34m:\u001b[0m\u001b[0;34m\u001b[0m\u001b[0;34m\u001b[0m\u001b[0m\n",
            "\u001b[0;32m/usr/local/lib/python3.10/dist-packages/IPython/core/display.py\u001b[0m in \u001b[0;36m_repr_mimebundle_\u001b[0;34m(self, include, exclude)\u001b[0m\n\u001b[1;32m   1288\u001b[0m         \u001b[0;32mif\u001b[0m \u001b[0mself\u001b[0m\u001b[0;34m.\u001b[0m\u001b[0membed\u001b[0m\u001b[0;34m:\u001b[0m\u001b[0;34m\u001b[0m\u001b[0;34m\u001b[0m\u001b[0m\n\u001b[1;32m   1289\u001b[0m             \u001b[0mmimetype\u001b[0m \u001b[0;34m=\u001b[0m \u001b[0mself\u001b[0m\u001b[0;34m.\u001b[0m\u001b[0m_mimetype\u001b[0m\u001b[0;34m\u001b[0m\u001b[0;34m\u001b[0m\u001b[0m\n\u001b[0;32m-> 1290\u001b[0;31m             \u001b[0mdata\u001b[0m\u001b[0;34m,\u001b[0m \u001b[0mmetadata\u001b[0m \u001b[0;34m=\u001b[0m \u001b[0mself\u001b[0m\u001b[0;34m.\u001b[0m\u001b[0m_data_and_metadata\u001b[0m\u001b[0;34m(\u001b[0m\u001b[0malways_both\u001b[0m\u001b[0;34m=\u001b[0m\u001b[0;32mTrue\u001b[0m\u001b[0;34m)\u001b[0m\u001b[0;34m\u001b[0m\u001b[0;34m\u001b[0m\u001b[0m\n\u001b[0m\u001b[1;32m   1291\u001b[0m             \u001b[0;32mif\u001b[0m \u001b[0mmetadata\u001b[0m\u001b[0;34m:\u001b[0m\u001b[0;34m\u001b[0m\u001b[0;34m\u001b[0m\u001b[0m\n\u001b[1;32m   1292\u001b[0m                 \u001b[0mmetadata\u001b[0m \u001b[0;34m=\u001b[0m \u001b[0;34m{\u001b[0m\u001b[0mmimetype\u001b[0m\u001b[0;34m:\u001b[0m \u001b[0mmetadata\u001b[0m\u001b[0;34m}\u001b[0m\u001b[0;34m\u001b[0m\u001b[0;34m\u001b[0m\u001b[0m\n",
            "\u001b[0;32m/usr/local/lib/python3.10/dist-packages/IPython/core/display.py\u001b[0m in \u001b[0;36m_data_and_metadata\u001b[0;34m(self, always_both)\u001b[0m\n\u001b[1;32m   1300\u001b[0m             \u001b[0mb64_data\u001b[0m \u001b[0;34m=\u001b[0m \u001b[0mb2a_base64\u001b[0m\u001b[0;34m(\u001b[0m\u001b[0mself\u001b[0m\u001b[0;34m.\u001b[0m\u001b[0mdata\u001b[0m\u001b[0;34m)\u001b[0m\u001b[0;34m.\u001b[0m\u001b[0mdecode\u001b[0m\u001b[0;34m(\u001b[0m\u001b[0;34m'ascii'\u001b[0m\u001b[0;34m)\u001b[0m\u001b[0;34m\u001b[0m\u001b[0;34m\u001b[0m\u001b[0m\n\u001b[1;32m   1301\u001b[0m         \u001b[0;32mexcept\u001b[0m \u001b[0mTypeError\u001b[0m\u001b[0;34m:\u001b[0m\u001b[0;34m\u001b[0m\u001b[0;34m\u001b[0m\u001b[0m\n\u001b[0;32m-> 1302\u001b[0;31m             raise FileNotFoundError(\n\u001b[0m\u001b[1;32m   1303\u001b[0m                 \"No such file or directory: '%s'\" % (self.data))\n\u001b[1;32m   1304\u001b[0m         \u001b[0mmd\u001b[0m \u001b[0;34m=\u001b[0m \u001b[0;34m{\u001b[0m\u001b[0;34m}\u001b[0m\u001b[0;34m\u001b[0m\u001b[0;34m\u001b[0m\u001b[0m\n",
            "\u001b[0;31mFileNotFoundError\u001b[0m: No such file or directory: './Media/dihedral-final.png'"
          ]
        },
        {
          "output_type": "error",
          "ename": "FileNotFoundError",
          "evalue": "ignored",
          "traceback": [
            "\u001b[0;31m---------------------------------------------------------------------------\u001b[0m",
            "\u001b[0;31mTypeError\u001b[0m                                 Traceback (most recent call last)",
            "\u001b[0;32m/usr/local/lib/python3.10/dist-packages/IPython/core/display.py\u001b[0m in \u001b[0;36m_data_and_metadata\u001b[0;34m(self, always_both)\u001b[0m\n\u001b[1;32m   1299\u001b[0m         \u001b[0;32mtry\u001b[0m\u001b[0;34m:\u001b[0m\u001b[0;34m\u001b[0m\u001b[0;34m\u001b[0m\u001b[0m\n\u001b[0;32m-> 1300\u001b[0;31m             \u001b[0mb64_data\u001b[0m \u001b[0;34m=\u001b[0m \u001b[0mb2a_base64\u001b[0m\u001b[0;34m(\u001b[0m\u001b[0mself\u001b[0m\u001b[0;34m.\u001b[0m\u001b[0mdata\u001b[0m\u001b[0;34m)\u001b[0m\u001b[0;34m.\u001b[0m\u001b[0mdecode\u001b[0m\u001b[0;34m(\u001b[0m\u001b[0;34m'ascii'\u001b[0m\u001b[0;34m)\u001b[0m\u001b[0;34m\u001b[0m\u001b[0;34m\u001b[0m\u001b[0m\n\u001b[0m\u001b[1;32m   1301\u001b[0m         \u001b[0;32mexcept\u001b[0m \u001b[0mTypeError\u001b[0m\u001b[0;34m:\u001b[0m\u001b[0;34m\u001b[0m\u001b[0;34m\u001b[0m\u001b[0m\n",
            "\u001b[0;31mTypeError\u001b[0m: a bytes-like object is required, not 'str'",
            "\nDuring handling of the above exception, another exception occurred:\n",
            "\u001b[0;31mFileNotFoundError\u001b[0m                         Traceback (most recent call last)",
            "\u001b[0;32m/usr/local/lib/python3.10/dist-packages/IPython/core/formatters.py\u001b[0m in \u001b[0;36m__call__\u001b[0;34m(self, obj)\u001b[0m\n\u001b[1;32m    343\u001b[0m             \u001b[0mmethod\u001b[0m \u001b[0;34m=\u001b[0m \u001b[0mget_real_method\u001b[0m\u001b[0;34m(\u001b[0m\u001b[0mobj\u001b[0m\u001b[0;34m,\u001b[0m \u001b[0mself\u001b[0m\u001b[0;34m.\u001b[0m\u001b[0mprint_method\u001b[0m\u001b[0;34m)\u001b[0m\u001b[0;34m\u001b[0m\u001b[0;34m\u001b[0m\u001b[0m\n\u001b[1;32m    344\u001b[0m             \u001b[0;32mif\u001b[0m \u001b[0mmethod\u001b[0m \u001b[0;32mis\u001b[0m \u001b[0;32mnot\u001b[0m \u001b[0;32mNone\u001b[0m\u001b[0;34m:\u001b[0m\u001b[0;34m\u001b[0m\u001b[0;34m\u001b[0m\u001b[0m\n\u001b[0;32m--> 345\u001b[0;31m                 \u001b[0;32mreturn\u001b[0m \u001b[0mmethod\u001b[0m\u001b[0;34m(\u001b[0m\u001b[0;34m)\u001b[0m\u001b[0;34m\u001b[0m\u001b[0;34m\u001b[0m\u001b[0m\n\u001b[0m\u001b[1;32m    346\u001b[0m             \u001b[0;32mreturn\u001b[0m \u001b[0;32mNone\u001b[0m\u001b[0;34m\u001b[0m\u001b[0;34m\u001b[0m\u001b[0m\n\u001b[1;32m    347\u001b[0m         \u001b[0;32melse\u001b[0m\u001b[0;34m:\u001b[0m\u001b[0;34m\u001b[0m\u001b[0;34m\u001b[0m\u001b[0m\n",
            "\u001b[0;32m/usr/local/lib/python3.10/dist-packages/IPython/core/display.py\u001b[0m in \u001b[0;36m_repr_png_\u001b[0;34m(self)\u001b[0m\n\u001b[1;32m   1318\u001b[0m     \u001b[0;32mdef\u001b[0m \u001b[0m_repr_png_\u001b[0m\u001b[0;34m(\u001b[0m\u001b[0mself\u001b[0m\u001b[0;34m)\u001b[0m\u001b[0;34m:\u001b[0m\u001b[0;34m\u001b[0m\u001b[0;34m\u001b[0m\u001b[0m\n\u001b[1;32m   1319\u001b[0m         \u001b[0;32mif\u001b[0m \u001b[0mself\u001b[0m\u001b[0;34m.\u001b[0m\u001b[0membed\u001b[0m \u001b[0;32mand\u001b[0m \u001b[0mself\u001b[0m\u001b[0;34m.\u001b[0m\u001b[0mformat\u001b[0m \u001b[0;34m==\u001b[0m \u001b[0mself\u001b[0m\u001b[0;34m.\u001b[0m\u001b[0m_FMT_PNG\u001b[0m\u001b[0;34m:\u001b[0m\u001b[0;34m\u001b[0m\u001b[0;34m\u001b[0m\u001b[0m\n\u001b[0;32m-> 1320\u001b[0;31m             \u001b[0;32mreturn\u001b[0m \u001b[0mself\u001b[0m\u001b[0;34m.\u001b[0m\u001b[0m_data_and_metadata\u001b[0m\u001b[0;34m(\u001b[0m\u001b[0;34m)\u001b[0m\u001b[0;34m\u001b[0m\u001b[0;34m\u001b[0m\u001b[0m\n\u001b[0m\u001b[1;32m   1321\u001b[0m \u001b[0;34m\u001b[0m\u001b[0m\n\u001b[1;32m   1322\u001b[0m     \u001b[0;32mdef\u001b[0m \u001b[0m_repr_jpeg_\u001b[0m\u001b[0;34m(\u001b[0m\u001b[0mself\u001b[0m\u001b[0;34m)\u001b[0m\u001b[0;34m:\u001b[0m\u001b[0;34m\u001b[0m\u001b[0;34m\u001b[0m\u001b[0m\n",
            "\u001b[0;32m/usr/local/lib/python3.10/dist-packages/IPython/core/display.py\u001b[0m in \u001b[0;36m_data_and_metadata\u001b[0;34m(self, always_both)\u001b[0m\n\u001b[1;32m   1300\u001b[0m             \u001b[0mb64_data\u001b[0m \u001b[0;34m=\u001b[0m \u001b[0mb2a_base64\u001b[0m\u001b[0;34m(\u001b[0m\u001b[0mself\u001b[0m\u001b[0;34m.\u001b[0m\u001b[0mdata\u001b[0m\u001b[0;34m)\u001b[0m\u001b[0;34m.\u001b[0m\u001b[0mdecode\u001b[0m\u001b[0;34m(\u001b[0m\u001b[0;34m'ascii'\u001b[0m\u001b[0;34m)\u001b[0m\u001b[0;34m\u001b[0m\u001b[0;34m\u001b[0m\u001b[0m\n\u001b[1;32m   1301\u001b[0m         \u001b[0;32mexcept\u001b[0m \u001b[0mTypeError\u001b[0m\u001b[0;34m:\u001b[0m\u001b[0;34m\u001b[0m\u001b[0;34m\u001b[0m\u001b[0m\n\u001b[0;32m-> 1302\u001b[0;31m             raise FileNotFoundError(\n\u001b[0m\u001b[1;32m   1303\u001b[0m                 \"No such file or directory: '%s'\" % (self.data))\n\u001b[1;32m   1304\u001b[0m         \u001b[0mmd\u001b[0m \u001b[0;34m=\u001b[0m \u001b[0;34m{\u001b[0m\u001b[0;34m}\u001b[0m\u001b[0;34m\u001b[0m\u001b[0;34m\u001b[0m\u001b[0m\n",
            "\u001b[0;31mFileNotFoundError\u001b[0m: No such file or directory: './Media/dihedral-final.png'"
          ]
        },
        {
          "output_type": "execute_result",
          "data": {
            "text/plain": [
              "<IPython.core.display.Image object>"
            ]
          },
          "metadata": {},
          "execution_count": 70
        }
      ],
      "source": [
        "from IPython.display import Image\n",
        "Image('./Media/dihedral-final.png',width='500')"
      ]
    },
    {
      "cell_type": "markdown",
      "metadata": {
        "id": "A9rRjZISVy3C"
      },
      "source": [
        "`Pose` objects make it easy to access angles, distances, and torsions for analysis. Lets take a look at how to get backbone torsions first."
      ]
    },
    {
      "cell_type": "code",
      "execution_count": 71,
      "metadata": {
        "code_folding": [],
        "deletable": false,
        "id": "QFyCCTB5Vy3D",
        "nbgrader": {
          "cell_type": "code",
          "checksum": "626165da4caae3b3fc2584be92d00fa1",
          "grade": true,
          "grade_id": "cell-515a9a625374ff39",
          "locked": false,
          "points": 0,
          "schema_version": 3,
          "solution": true
        }
      },
      "outputs": [],
      "source": [
        "#resid = \"get the pose residue number for chain A:res 28 using the pdb2pose function\"\n",
        "resid = pose.pdb_info().pdb2pose('A', 28)\n"
      ]
    },
    {
      "cell_type": "code",
      "execution_count": 72,
      "metadata": {
        "id": "NzL5js5mVy3D",
        "colab": {
          "base_uri": "https://localhost:8080/"
        },
        "outputId": "c743b22e-19bd-4e78-c011-12322f62ddc6"
      },
      "outputs": [
        {
          "output_type": "stream",
          "name": "stdout",
          "text": [
            "phi: -149.17513487055064\n",
            "psi: 151.30037995499168\n",
            "chi1: -82.85078566898203\n"
          ]
        }
      ],
      "source": [
        "print(\"phi:\", pose.phi(resid))\n",
        "print(\"psi:\", pose.psi(resid))\n",
        "print(\"chi1:\", pose.chi(1, resid))"
      ]
    },
    {
      "cell_type": "markdown",
      "metadata": {
        "id": "Xqsif6i-Vy3D"
      },
      "source": [
        "Say we want to find the length of the $N$-$C_\\alpha$ and $C_\\alpha$-$C$ bonds for residue A:28 from the PDB file. We can use a couple approaches. The first involves using the bond length in the `Conformation` class, which stores some info on protein geometry. Take a look at some of the methods in the `Conformation` class using tab completion."
      ]
    },
    {
      "cell_type": "code",
      "execution_count": 73,
      "metadata": {
        "id": "wG4dqzC3Vy3E"
      },
      "outputs": [],
      "source": [
        "conformation = pose.conformation() \n",
        "# do some tab completion here to explore the Conformation class methods\n",
        "#conformation."
      ]
    },
    {
      "cell_type": "markdown",
      "metadata": {
        "id": "u7DRpOY1Vy3E"
      },
      "source": [
        "Look at the documentation for the method `conformation.bond_length` below. Remember using the `?`"
      ]
    },
    {
      "cell_type": "code",
      "execution_count": 52,
      "metadata": {
        "deletable": false,
        "id": "A8lx-iwDVy3E",
        "nbgrader": {
          "cell_type": "code",
          "checksum": "687931b5ccbbe3d5fcae8e2c46c7d5af",
          "grade": true,
          "grade_id": "cell-24f6696e51608ed9",
          "locked": false,
          "points": 0,
          "schema_version": 3,
          "solution": true
        }
      },
      "outputs": [],
      "source": [
        "# YOUR CODE HERE\n",
        "?conformation.bond_length"
      ]
    },
    {
      "cell_type": "markdown",
      "metadata": {
        "id": "F13M9ycqVy3F"
      },
      "source": [
        "To use the bond_length method in the `Conformation` class, it looks like we'll need to make `AtomID` objects. We can do this using an atom index and residue ID as follows:"
      ]
    },
    {
      "cell_type": "code",
      "execution_count": 53,
      "metadata": {
        "id": "n-qupySVVy3F"
      },
      "outputs": [],
      "source": [
        "# Double Check: does resid contain the Pose numbering or PDB numbering?\n",
        "res_28 = pose.residue(resid)\n",
        "N28 = AtomID(res_28.atom_index(\"N\"), resid)\n",
        "CA28 = AtomID(res_28.atom_index(\"CA\"), resid)\n",
        "C28 = AtomID(res_28.atom_index(\"C\"), resid)\n",
        "\n",
        "# try printing out an AtomID object!"
      ]
    },
    {
      "cell_type": "code",
      "execution_count": 54,
      "metadata": {
        "deletable": false,
        "id": "BoO4KTn1Vy3F",
        "nbgrader": {
          "cell_type": "code",
          "checksum": "9d94dd327ff343bf86a1f46dfbdf1961",
          "grade": true,
          "grade_id": "cell-173ad95e5970743d",
          "locked": false,
          "points": 0,
          "schema_version": 3,
          "solution": true
        },
        "colab": {
          "base_uri": "https://localhost:8080/"
        },
        "outputId": "950a23f7-be73-4ce7-f90d-be5d42ed051e"
      },
      "outputs": [
        {
          "output_type": "stream",
          "name": "stdout",
          "text": [
            " atomno= 1 rsd= 5 \n"
          ]
        }
      ],
      "source": [
        "# YOUR CODE HERE\n",
        "print(N28)"
      ]
    },
    {
      "cell_type": "markdown",
      "metadata": {
        "id": "BsKxm3aEVy3F"
      },
      "source": [
        "As usual, if you did not know how to construct an `AtomID`, you could check the documentation using `?AtomID`.\n",
        "\n",
        "Now we can compute the bond lengths:"
      ]
    },
    {
      "cell_type": "code",
      "execution_count": 55,
      "metadata": {
        "id": "WrdVApLaVy3G",
        "colab": {
          "base_uri": "https://localhost:8080/"
        },
        "outputId": "832ffcf7-2dbe-4332-907c-88e64d03366c"
      },
      "outputs": [
        {
          "output_type": "stream",
          "name": "stdout",
          "text": [
            "1.456100614655453\n",
            "1.5184027792387658\n"
          ]
        }
      ],
      "source": [
        "print(pose.conformation().bond_length(N28, CA28))\n",
        "print(pose.conformation().bond_length(CA28, C28))"
      ]
    },
    {
      "cell_type": "markdown",
      "metadata": {
        "id": "01xvG1DXVy3I"
      },
      "source": [
        "Alternatively, we can compute bond lengths ourselves starting from the xyz coordinates of the atoms. \n",
        "\n",
        "The method `xyz` of `Residue` returns a `Vector` class. The `Vector` class has various useful builtin methods including computing dot products, cross products, and norms. Through operator overloading in the `Vector` class, you can just subtract and add vector objects and they will manipulate the corresponding vectors appropriately."
      ]
    },
    {
      "cell_type": "code",
      "execution_count": 56,
      "metadata": {
        "id": "k-Sw4XK9Vy3I",
        "colab": {
          "base_uri": "https://localhost:8080/"
        },
        "outputId": "fe5ec5c3-3bf8-4dc1-ca29-217563a3d76d"
      },
      "outputs": [
        {
          "output_type": "stream",
          "name": "stdout",
          "text": [
            "1.456100614655453\n",
            "1.5184027792387658\n"
          ]
        }
      ],
      "source": [
        "N_xyz = res_28.xyz(\"N\")\n",
        "CA_xyz = res_28.xyz(\"CA\")\n",
        "C_xyz = res_28.xyz(\"C\")\n",
        "N_CA_vector = CA_xyz - N_xyz\n",
        "CA_C_vector = CA_xyz - C_xyz\n",
        "print(N_CA_vector.norm())\n",
        "print(CA_C_vector.norm())"
      ]
    },
    {
      "cell_type": "markdown",
      "metadata": {
        "id": "g6Z_bc6CVy3I"
      },
      "source": [
        "Thankfully, the two approaches for computing distances check out!\n",
        "\n",
        "**Note**: Not all bond lengths, angles, and torsions will be accessible using the `Conformation` object. That is because the `Conformation` object stores only the subset it needs to generate xyz locations for the atoms in the pose. The most stable way to get this information is to compute it using the xyz Cartesian coordinate vectors as a starting point."
      ]
    },
    {
      "cell_type": "code",
      "execution_count": 56,
      "metadata": {
        "id": "Sh33bDt7Vy3I"
      },
      "outputs": [],
      "source": []
    },
    {
      "cell_type": "markdown",
      "metadata": {
        "id": "SP0JCV-fVy3J"
      },
      "source": [
        "## References\n",
        "This notebook includes some concepts and exercises from:\n",
        "\n",
        "\"Workshop #2: PyRosetta\" in the PyRosetta workbook: https://graylab.jhu.edu/pyrosetta/downloads/documentation/pyrosetta4_online_format/PyRosetta4_Workshop2_PyRosetta.pdf\n",
        "\n",
        "\"Workshop #4.1: PyMOL_Mover\" in the PyRosetta workbook: \n",
        "http://www.pyrosetta.org/pymol_mover-tutorial"
      ]
    },
    {
      "cell_type": "markdown",
      "metadata": {
        "id": "w08ZJdoIVy3J"
      },
      "source": [
        "# Protein Geometry\n",
        "Keywords: pose_from_sequence(), bond_angle(), set_phi(), set_psi(), xyz()"
      ]
    },
    {
      "cell_type": "code",
      "execution_count": 57,
      "metadata": {
        "id": "szKDXB1kVy3J",
        "colab": {
          "base_uri": "https://localhost:8080/"
        },
        "outputId": "3bdf9dda-f4ff-4bf9-d756-dd0efb8f7e96"
      },
      "outputs": [
        {
          "output_type": "stream",
          "name": "stdout",
          "text": [
            "PyRosetta-4 2023 [Rosetta PyRosetta4.MinSizeRel.python310.ubuntu 2023.19+release.d7aa7f94e8be5e9d5110d37f167c2a7afd30c530 2023-05-08T16:22:16] retrieved from: http://www.pyrosetta.org\n",
            "(C) Copyright Rosetta Commons Member Institutions. Created in JHU by Sergey Lyskov and PyRosetta Team.\n",
            "core.init: Checking for fconfig files in pwd and ./rosetta/flags\n",
            "core.init: Rosetta version: PyRosetta4.MinSizeRel.python310.ubuntu r348 2023.19+release.d7aa7f94e8b d7aa7f94e8be5e9d5110d37f167c2a7afd30c530 http://www.pyrosetta.org 2023-05-08T16:22:16\n",
            "core.init: command: PyRosetta -ex1 -ex2aro -database /usr/local/lib/python3.10/dist-packages/pyrosetta/database\n",
            "basic.random.init_random_generator: 'RNG device' seed mode, using '/dev/urandom', seed=1999327280 seed_offset=0 real_seed=1999327280\n",
            "basic.random.init_random_generator: RandomGenerator:init: Normal mode, seed=1999327280 RG_type=mt19937\n"
          ]
        }
      ],
      "source": [
        "from pyrosetta import *\n",
        "from pyrosetta.teaching import *\n",
        "init()"
      ]
    },
    {
      "cell_type": "code",
      "execution_count": 58,
      "metadata": {
        "id": "dZ7Xx43jVy3J",
        "colab": {
          "base_uri": "https://localhost:8080/"
        },
        "outputId": "17caba00-4b26-4b48-9f49-a3752ae95741"
      },
      "outputs": [
        {
          "output_type": "stream",
          "name": "stdout",
          "text": [
            "core.import_pose.import_pose: File '/content/5tj3.pdb' automatically determined to be of type PDB\n",
            "core.conformation.Conformation: [ WARNING ] missing heavyatom:  CG  on residue LYS 233\n",
            "core.conformation.Conformation: [ WARNING ] missing heavyatom:  CD  on residue LYS 233\n",
            "core.conformation.Conformation: [ WARNING ] missing heavyatom:  CE  on residue LYS 233\n",
            "core.conformation.Conformation: [ WARNING ] missing heavyatom:  NZ  on residue LYS 233\n",
            "core.conformation.Conformation: [ WARNING ] missing heavyatom:  CG  on residue ASP 350\n",
            "core.conformation.Conformation: [ WARNING ] missing heavyatom:  OD1 on residue ASP 350\n",
            "core.conformation.Conformation: [ WARNING ] missing heavyatom:  OD2 on residue ASP 350\n",
            "core.conformation.Conformation: [ WARNING ] missing heavyatom:  CG  on residue LYS 353\n",
            "core.conformation.Conformation: [ WARNING ] missing heavyatom:  CD  on residue LYS 353\n",
            "core.conformation.Conformation: [ WARNING ] missing heavyatom:  CE  on residue LYS 353\n",
            "core.conformation.Conformation: [ WARNING ] missing heavyatom:  NZ  on residue LYS 353\n",
            "core.conformation.Conformation: [ WARNING ] missing heavyatom:  CG  on residue GLU 354\n",
            "core.conformation.Conformation: [ WARNING ] missing heavyatom:  CD  on residue GLU 354\n",
            "core.conformation.Conformation: [ WARNING ] missing heavyatom:  OE1 on residue GLU 354\n",
            "core.conformation.Conformation: [ WARNING ] missing heavyatom:  OE2 on residue GLU 354\n",
            "core.conformation.Conformation: [ WARNING ] missing heavyatom:  CG  on residue LYS 382\n",
            "core.conformation.Conformation: [ WARNING ] missing heavyatom:  CD  on residue LYS 382\n",
            "core.conformation.Conformation: [ WARNING ] missing heavyatom:  CE  on residue LYS 382\n",
            "core.conformation.Conformation: [ WARNING ] missing heavyatom:  NZ  on residue LYS 382\n",
            "core.conformation.Conformation: [ WARNING ] missing heavyatom:  CG  on residue TYR 454\n",
            "core.conformation.Conformation: [ WARNING ] missing heavyatom:  CD1 on residue TYR 454\n",
            "core.conformation.Conformation: [ WARNING ] missing heavyatom:  CD2 on residue TYR 454\n",
            "core.conformation.Conformation: [ WARNING ] missing heavyatom:  CE1 on residue TYR 454\n",
            "core.conformation.Conformation: [ WARNING ] missing heavyatom:  CE2 on residue TYR 454\n",
            "core.conformation.Conformation: [ WARNING ] missing heavyatom:  CZ  on residue TYR 454\n",
            "core.conformation.Conformation: [ WARNING ] missing heavyatom:  OH  on residue TYR 454\n",
            "core.conformation.Conformation: [ WARNING ] missing heavyatom:  OXT on residue GLY:CtermProteinFull 520\n",
            "core.pack.pack_missing_sidechains: packing residue number 233 because of missing atom number 6 atom name  CG\n",
            "core.pack.pack_missing_sidechains: packing residue number 350 because of missing atom number 6 atom name  CG\n",
            "core.pack.pack_missing_sidechains: packing residue number 353 because of missing atom number 6 atom name  CG\n",
            "core.pack.pack_missing_sidechains: packing residue number 354 because of missing atom number 6 atom name  CG\n",
            "core.pack.pack_missing_sidechains: packing residue number 382 because of missing atom number 6 atom name  CG\n",
            "core.pack.pack_missing_sidechains: packing residue number 454 because of missing atom number 6 atom name  CG\n",
            "core.pack.task: Packer task: initialize from command line()\n",
            "core.scoring.ScoreFunctionFactory: SCOREFUNCTION: ref2015\n",
            "core.pack.pack_rotamers: built 90 rotamers at 6 positions.\n",
            "core.pack.interaction_graph.interaction_graph_factory: Instantiating DensePDInteractionGraph\n"
          ]
        }
      ],
      "source": [
        "pose = pose_from_pdb(\"/content/5tj3.pdb\")\n",
        "resid = pose.pdb_info().pdb2pose('A', 28)\n",
        "res_28 = pose.residue(resid)\n",
        "N28 = AtomID(res_28.atom_index(\"N\"), resid)\n",
        "CA28 = AtomID(res_28.atom_index(\"CA\"), resid)\n",
        "C28 = AtomID(res_28.atom_index(\"C\"), resid)"
      ]
    },
    {
      "cell_type": "markdown",
      "metadata": {
        "id": "JhuPy2JDVy3K"
      },
      "source": [
        "## Rosetta Database Files\n",
        "\n",
        "Let's take a look at Rosetta's ideal values for this amino acid's bond lengths and see how these values compare. First find Pyrosetta's database directory on your computer (hint: it should have shown up when you ran `init()` at the beginning of this Jupyter notebook.) Here's an example:"
      ]
    },
    {
      "cell_type": "code",
      "execution_count": 59,
      "metadata": {
        "id": "D30F83CRVy3K",
        "colab": {
          "base_uri": "https://localhost:8080/",
          "height": 958
        },
        "outputId": "8111b03f-298c-4341-a2d6-9817d397c9bf"
      },
      "outputs": [
        {
          "output_type": "error",
          "ename": "FileNotFoundError",
          "evalue": "ignored",
          "traceback": [
            "\u001b[0;31m---------------------------------------------------------------------------\u001b[0m",
            "\u001b[0;31mTypeError\u001b[0m                                 Traceback (most recent call last)",
            "\u001b[0;32m/usr/local/lib/python3.10/dist-packages/IPython/core/display.py\u001b[0m in \u001b[0;36m_data_and_metadata\u001b[0;34m(self, always_both)\u001b[0m\n\u001b[1;32m   1299\u001b[0m         \u001b[0;32mtry\u001b[0m\u001b[0;34m:\u001b[0m\u001b[0;34m\u001b[0m\u001b[0;34m\u001b[0m\u001b[0m\n\u001b[0;32m-> 1300\u001b[0;31m             \u001b[0mb64_data\u001b[0m \u001b[0;34m=\u001b[0m \u001b[0mb2a_base64\u001b[0m\u001b[0;34m(\u001b[0m\u001b[0mself\u001b[0m\u001b[0;34m.\u001b[0m\u001b[0mdata\u001b[0m\u001b[0;34m)\u001b[0m\u001b[0;34m.\u001b[0m\u001b[0mdecode\u001b[0m\u001b[0;34m(\u001b[0m\u001b[0;34m'ascii'\u001b[0m\u001b[0;34m)\u001b[0m\u001b[0;34m\u001b[0m\u001b[0;34m\u001b[0m\u001b[0m\n\u001b[0m\u001b[1;32m   1301\u001b[0m         \u001b[0;32mexcept\u001b[0m \u001b[0mTypeError\u001b[0m\u001b[0;34m:\u001b[0m\u001b[0;34m\u001b[0m\u001b[0;34m\u001b[0m\u001b[0m\n",
            "\u001b[0;31mTypeError\u001b[0m: a bytes-like object is required, not 'str'",
            "\nDuring handling of the above exception, another exception occurred:\n",
            "\u001b[0;31mFileNotFoundError\u001b[0m                         Traceback (most recent call last)",
            "\u001b[0;32m/usr/local/lib/python3.10/dist-packages/IPython/core/formatters.py\u001b[0m in \u001b[0;36m__call__\u001b[0;34m(self, obj, include, exclude)\u001b[0m\n\u001b[1;32m    968\u001b[0m \u001b[0;34m\u001b[0m\u001b[0m\n\u001b[1;32m    969\u001b[0m             \u001b[0;32mif\u001b[0m \u001b[0mmethod\u001b[0m \u001b[0;32mis\u001b[0m \u001b[0;32mnot\u001b[0m \u001b[0;32mNone\u001b[0m\u001b[0;34m:\u001b[0m\u001b[0;34m\u001b[0m\u001b[0;34m\u001b[0m\u001b[0m\n\u001b[0;32m--> 970\u001b[0;31m                 \u001b[0;32mreturn\u001b[0m \u001b[0mmethod\u001b[0m\u001b[0;34m(\u001b[0m\u001b[0minclude\u001b[0m\u001b[0;34m=\u001b[0m\u001b[0minclude\u001b[0m\u001b[0;34m,\u001b[0m \u001b[0mexclude\u001b[0m\u001b[0;34m=\u001b[0m\u001b[0mexclude\u001b[0m\u001b[0;34m)\u001b[0m\u001b[0;34m\u001b[0m\u001b[0;34m\u001b[0m\u001b[0m\n\u001b[0m\u001b[1;32m    971\u001b[0m             \u001b[0;32mreturn\u001b[0m \u001b[0;32mNone\u001b[0m\u001b[0;34m\u001b[0m\u001b[0;34m\u001b[0m\u001b[0m\n\u001b[1;32m    972\u001b[0m         \u001b[0;32melse\u001b[0m\u001b[0;34m:\u001b[0m\u001b[0;34m\u001b[0m\u001b[0;34m\u001b[0m\u001b[0m\n",
            "\u001b[0;32m/usr/local/lib/python3.10/dist-packages/IPython/core/display.py\u001b[0m in \u001b[0;36m_repr_mimebundle_\u001b[0;34m(self, include, exclude)\u001b[0m\n\u001b[1;32m   1288\u001b[0m         \u001b[0;32mif\u001b[0m \u001b[0mself\u001b[0m\u001b[0;34m.\u001b[0m\u001b[0membed\u001b[0m\u001b[0;34m:\u001b[0m\u001b[0;34m\u001b[0m\u001b[0;34m\u001b[0m\u001b[0m\n\u001b[1;32m   1289\u001b[0m             \u001b[0mmimetype\u001b[0m \u001b[0;34m=\u001b[0m \u001b[0mself\u001b[0m\u001b[0;34m.\u001b[0m\u001b[0m_mimetype\u001b[0m\u001b[0;34m\u001b[0m\u001b[0;34m\u001b[0m\u001b[0m\n\u001b[0;32m-> 1290\u001b[0;31m             \u001b[0mdata\u001b[0m\u001b[0;34m,\u001b[0m \u001b[0mmetadata\u001b[0m \u001b[0;34m=\u001b[0m \u001b[0mself\u001b[0m\u001b[0;34m.\u001b[0m\u001b[0m_data_and_metadata\u001b[0m\u001b[0;34m(\u001b[0m\u001b[0malways_both\u001b[0m\u001b[0;34m=\u001b[0m\u001b[0;32mTrue\u001b[0m\u001b[0;34m)\u001b[0m\u001b[0;34m\u001b[0m\u001b[0;34m\u001b[0m\u001b[0m\n\u001b[0m\u001b[1;32m   1291\u001b[0m             \u001b[0;32mif\u001b[0m \u001b[0mmetadata\u001b[0m\u001b[0;34m:\u001b[0m\u001b[0;34m\u001b[0m\u001b[0;34m\u001b[0m\u001b[0m\n\u001b[1;32m   1292\u001b[0m                 \u001b[0mmetadata\u001b[0m \u001b[0;34m=\u001b[0m \u001b[0;34m{\u001b[0m\u001b[0mmimetype\u001b[0m\u001b[0;34m:\u001b[0m \u001b[0mmetadata\u001b[0m\u001b[0;34m}\u001b[0m\u001b[0;34m\u001b[0m\u001b[0;34m\u001b[0m\u001b[0m\n",
            "\u001b[0;32m/usr/local/lib/python3.10/dist-packages/IPython/core/display.py\u001b[0m in \u001b[0;36m_data_and_metadata\u001b[0;34m(self, always_both)\u001b[0m\n\u001b[1;32m   1300\u001b[0m             \u001b[0mb64_data\u001b[0m \u001b[0;34m=\u001b[0m \u001b[0mb2a_base64\u001b[0m\u001b[0;34m(\u001b[0m\u001b[0mself\u001b[0m\u001b[0;34m.\u001b[0m\u001b[0mdata\u001b[0m\u001b[0;34m)\u001b[0m\u001b[0;34m.\u001b[0m\u001b[0mdecode\u001b[0m\u001b[0;34m(\u001b[0m\u001b[0;34m'ascii'\u001b[0m\u001b[0;34m)\u001b[0m\u001b[0;34m\u001b[0m\u001b[0;34m\u001b[0m\u001b[0m\n\u001b[1;32m   1301\u001b[0m         \u001b[0;32mexcept\u001b[0m \u001b[0mTypeError\u001b[0m\u001b[0;34m:\u001b[0m\u001b[0;34m\u001b[0m\u001b[0;34m\u001b[0m\u001b[0m\n\u001b[0;32m-> 1302\u001b[0;31m             raise FileNotFoundError(\n\u001b[0m\u001b[1;32m   1303\u001b[0m                 \"No such file or directory: '%s'\" % (self.data))\n\u001b[1;32m   1304\u001b[0m         \u001b[0mmd\u001b[0m \u001b[0;34m=\u001b[0m \u001b[0;34m{\u001b[0m\u001b[0;34m}\u001b[0m\u001b[0;34m\u001b[0m\u001b[0;34m\u001b[0m\u001b[0m\n",
            "\u001b[0;31mFileNotFoundError\u001b[0m: No such file or directory: './Media/init-path.png'"
          ]
        },
        {
          "output_type": "error",
          "ename": "FileNotFoundError",
          "evalue": "ignored",
          "traceback": [
            "\u001b[0;31m---------------------------------------------------------------------------\u001b[0m",
            "\u001b[0;31mTypeError\u001b[0m                                 Traceback (most recent call last)",
            "\u001b[0;32m/usr/local/lib/python3.10/dist-packages/IPython/core/display.py\u001b[0m in \u001b[0;36m_data_and_metadata\u001b[0;34m(self, always_both)\u001b[0m\n\u001b[1;32m   1299\u001b[0m         \u001b[0;32mtry\u001b[0m\u001b[0;34m:\u001b[0m\u001b[0;34m\u001b[0m\u001b[0;34m\u001b[0m\u001b[0m\n\u001b[0;32m-> 1300\u001b[0;31m             \u001b[0mb64_data\u001b[0m \u001b[0;34m=\u001b[0m \u001b[0mb2a_base64\u001b[0m\u001b[0;34m(\u001b[0m\u001b[0mself\u001b[0m\u001b[0;34m.\u001b[0m\u001b[0mdata\u001b[0m\u001b[0;34m)\u001b[0m\u001b[0;34m.\u001b[0m\u001b[0mdecode\u001b[0m\u001b[0;34m(\u001b[0m\u001b[0;34m'ascii'\u001b[0m\u001b[0;34m)\u001b[0m\u001b[0;34m\u001b[0m\u001b[0;34m\u001b[0m\u001b[0m\n\u001b[0m\u001b[1;32m   1301\u001b[0m         \u001b[0;32mexcept\u001b[0m \u001b[0mTypeError\u001b[0m\u001b[0;34m:\u001b[0m\u001b[0;34m\u001b[0m\u001b[0;34m\u001b[0m\u001b[0m\n",
            "\u001b[0;31mTypeError\u001b[0m: a bytes-like object is required, not 'str'",
            "\nDuring handling of the above exception, another exception occurred:\n",
            "\u001b[0;31mFileNotFoundError\u001b[0m                         Traceback (most recent call last)",
            "\u001b[0;32m/usr/local/lib/python3.10/dist-packages/IPython/core/formatters.py\u001b[0m in \u001b[0;36m__call__\u001b[0;34m(self, obj)\u001b[0m\n\u001b[1;32m    343\u001b[0m             \u001b[0mmethod\u001b[0m \u001b[0;34m=\u001b[0m \u001b[0mget_real_method\u001b[0m\u001b[0;34m(\u001b[0m\u001b[0mobj\u001b[0m\u001b[0;34m,\u001b[0m \u001b[0mself\u001b[0m\u001b[0;34m.\u001b[0m\u001b[0mprint_method\u001b[0m\u001b[0;34m)\u001b[0m\u001b[0;34m\u001b[0m\u001b[0;34m\u001b[0m\u001b[0m\n\u001b[1;32m    344\u001b[0m             \u001b[0;32mif\u001b[0m \u001b[0mmethod\u001b[0m \u001b[0;32mis\u001b[0m \u001b[0;32mnot\u001b[0m \u001b[0;32mNone\u001b[0m\u001b[0;34m:\u001b[0m\u001b[0;34m\u001b[0m\u001b[0;34m\u001b[0m\u001b[0m\n\u001b[0;32m--> 345\u001b[0;31m                 \u001b[0;32mreturn\u001b[0m \u001b[0mmethod\u001b[0m\u001b[0;34m(\u001b[0m\u001b[0;34m)\u001b[0m\u001b[0;34m\u001b[0m\u001b[0;34m\u001b[0m\u001b[0m\n\u001b[0m\u001b[1;32m    346\u001b[0m             \u001b[0;32mreturn\u001b[0m \u001b[0;32mNone\u001b[0m\u001b[0;34m\u001b[0m\u001b[0;34m\u001b[0m\u001b[0m\n\u001b[1;32m    347\u001b[0m         \u001b[0;32melse\u001b[0m\u001b[0;34m:\u001b[0m\u001b[0;34m\u001b[0m\u001b[0;34m\u001b[0m\u001b[0m\n",
            "\u001b[0;32m/usr/local/lib/python3.10/dist-packages/IPython/core/display.py\u001b[0m in \u001b[0;36m_repr_png_\u001b[0;34m(self)\u001b[0m\n\u001b[1;32m   1318\u001b[0m     \u001b[0;32mdef\u001b[0m \u001b[0m_repr_png_\u001b[0m\u001b[0;34m(\u001b[0m\u001b[0mself\u001b[0m\u001b[0;34m)\u001b[0m\u001b[0;34m:\u001b[0m\u001b[0;34m\u001b[0m\u001b[0;34m\u001b[0m\u001b[0m\n\u001b[1;32m   1319\u001b[0m         \u001b[0;32mif\u001b[0m \u001b[0mself\u001b[0m\u001b[0;34m.\u001b[0m\u001b[0membed\u001b[0m \u001b[0;32mand\u001b[0m \u001b[0mself\u001b[0m\u001b[0;34m.\u001b[0m\u001b[0mformat\u001b[0m \u001b[0;34m==\u001b[0m \u001b[0mself\u001b[0m\u001b[0;34m.\u001b[0m\u001b[0m_FMT_PNG\u001b[0m\u001b[0;34m:\u001b[0m\u001b[0;34m\u001b[0m\u001b[0;34m\u001b[0m\u001b[0m\n\u001b[0;32m-> 1320\u001b[0;31m             \u001b[0;32mreturn\u001b[0m \u001b[0mself\u001b[0m\u001b[0;34m.\u001b[0m\u001b[0m_data_and_metadata\u001b[0m\u001b[0;34m(\u001b[0m\u001b[0;34m)\u001b[0m\u001b[0;34m\u001b[0m\u001b[0;34m\u001b[0m\u001b[0m\n\u001b[0m\u001b[1;32m   1321\u001b[0m \u001b[0;34m\u001b[0m\u001b[0m\n\u001b[1;32m   1322\u001b[0m     \u001b[0;32mdef\u001b[0m \u001b[0m_repr_jpeg_\u001b[0m\u001b[0;34m(\u001b[0m\u001b[0mself\u001b[0m\u001b[0;34m)\u001b[0m\u001b[0;34m:\u001b[0m\u001b[0;34m\u001b[0m\u001b[0;34m\u001b[0m\u001b[0m\n",
            "\u001b[0;32m/usr/local/lib/python3.10/dist-packages/IPython/core/display.py\u001b[0m in \u001b[0;36m_data_and_metadata\u001b[0;34m(self, always_both)\u001b[0m\n\u001b[1;32m   1300\u001b[0m             \u001b[0mb64_data\u001b[0m \u001b[0;34m=\u001b[0m \u001b[0mb2a_base64\u001b[0m\u001b[0;34m(\u001b[0m\u001b[0mself\u001b[0m\u001b[0;34m.\u001b[0m\u001b[0mdata\u001b[0m\u001b[0;34m)\u001b[0m\u001b[0;34m.\u001b[0m\u001b[0mdecode\u001b[0m\u001b[0;34m(\u001b[0m\u001b[0;34m'ascii'\u001b[0m\u001b[0;34m)\u001b[0m\u001b[0;34m\u001b[0m\u001b[0;34m\u001b[0m\u001b[0m\n\u001b[1;32m   1301\u001b[0m         \u001b[0;32mexcept\u001b[0m \u001b[0mTypeError\u001b[0m\u001b[0;34m:\u001b[0m\u001b[0;34m\u001b[0m\u001b[0;34m\u001b[0m\u001b[0m\n\u001b[0;32m-> 1302\u001b[0;31m             raise FileNotFoundError(\n\u001b[0m\u001b[1;32m   1303\u001b[0m                 \"No such file or directory: '%s'\" % (self.data))\n\u001b[1;32m   1304\u001b[0m         \u001b[0mmd\u001b[0m \u001b[0;34m=\u001b[0m \u001b[0;34m{\u001b[0m\u001b[0;34m}\u001b[0m\u001b[0;34m\u001b[0m\u001b[0;34m\u001b[0m\u001b[0m\n",
            "\u001b[0;31mFileNotFoundError\u001b[0m: No such file or directory: './Media/init-path.png'"
          ]
        },
        {
          "output_type": "execute_result",
          "data": {
            "text/plain": [
              "<IPython.core.display.Image object>"
            ]
          },
          "metadata": {},
          "execution_count": 59
        }
      ],
      "source": [
        "from IPython.display import Image\n",
        "Image('./Media/init-path.png',width='700')"
      ]
    },
    {
      "cell_type": "markdown",
      "metadata": {
        "id": "asll5bLeVy3K"
      },
      "source": [
        "Head to the subdirectory `chemical/residue_type_sets/fa_standard/` to find the residue you're looking at. Let's look at valine, which can be found in the `l-caa` folder, since it is a standard amino acid. The `ICOOR_INTERNAL` lines will provide torsion angles, bond angles, and bond lengths between subsequent atoms in this residue. From this you should be able to deduce Rosetta's ideal $N$-$C_\\alpha$ and $C_\\alpha$-$C$ bond lengths.\n",
        "\n",
        "These ideal values would for instance be used if we generated a new pose from an amino acid sequence. In fact, let's try that here:"
      ]
    },
    {
      "cell_type": "code",
      "execution_count": 60,
      "metadata": {
        "id": "qZCC8JpcVy3K",
        "colab": {
          "base_uri": "https://localhost:8080/"
        },
        "outputId": "dfd7be69-48d8-46b0-94a5-8d28cf4ec020"
      },
      "outputs": [
        {
          "output_type": "stream",
          "name": "stdout",
          "text": [
            "V\n"
          ]
        }
      ],
      "source": [
        "one_res_seq = \"V\"\n",
        "pose_one_res = pose_from_sequence(one_res_seq)\n",
        "print(pose_one_res.sequence())"
      ]
    },
    {
      "cell_type": "code",
      "execution_count": 61,
      "metadata": {
        "id": "RmGO8ZuYVy3K",
        "colab": {
          "base_uri": "https://localhost:8080/"
        },
        "outputId": "15eaf9f4-ddd6-407e-818d-8df0247637cd"
      },
      "outputs": [
        {
          "output_type": "stream",
          "name": "stdout",
          "text": [
            "1.458004\n",
            "1.52326\n"
          ]
        }
      ],
      "source": [
        "N_xyz = pose_one_res.residue(1).xyz(\"N\")\n",
        "CA_xyz = pose_one_res.residue(1).xyz(\"CA\")\n",
        "C_xyz = pose_one_res.residue(1).xyz(\"C\")\n",
        "print((CA_xyz - N_xyz).norm())\n",
        "print((CA_xyz - C_xyz).norm())"
      ]
    },
    {
      "cell_type": "markdown",
      "metadata": {
        "id": "3uXtxRr5Vy3L"
      },
      "source": [
        "Now lets figure out how to get angles in the protein. If the `Conformation` class has the angle we're looking for, we can use the AtomID objects we've already created:"
      ]
    },
    {
      "cell_type": "code",
      "execution_count": 62,
      "metadata": {
        "id": "f83gCiU9Vy3L",
        "colab": {
          "base_uri": "https://localhost:8080/"
        },
        "outputId": "c5cc22f6-370d-4f84-f6b5-c75b58117556"
      },
      "outputs": [
        {
          "output_type": "stream",
          "name": "stdout",
          "text": [
            "1.9131887665773852\n"
          ]
        }
      ],
      "source": [
        "angle = pose.conformation().bond_angle(N28, CA28, C28)\n",
        "print(angle)"
      ]
    },
    {
      "cell_type": "markdown",
      "metadata": {
        "id": "yzTPxlw1Vy3L"
      },
      "source": [
        "Notice that `.bond_angle()` gives us the angle in radians. We can compute the above angle in degrees:"
      ]
    },
    {
      "cell_type": "code",
      "execution_count": 63,
      "metadata": {
        "id": "B2dZEJ8cVy3L",
        "colab": {
          "base_uri": "https://localhost:8080/"
        },
        "outputId": "fcf4230a-4763-4962-bae7-97e20ffbbb47"
      },
      "outputs": [
        {
          "output_type": "execute_result",
          "data": {
            "text/plain": [
              "109.6176417367238"
            ]
          },
          "metadata": {},
          "execution_count": 63
        }
      ],
      "source": [
        "import math\n",
        "angle*180/math.pi"
      ]
    },
    {
      "cell_type": "markdown",
      "metadata": {
        "id": "avddBJZ3Vy3M"
      },
      "source": [
        "Note how this compares to the expected angle based on a tetrahedral geometry for the $C_\\alpha$ carbon."
      ]
    },
    {
      "cell_type": "markdown",
      "metadata": {
        "id": "cqSHlSQ4Vy3M"
      },
      "source": [
        "### Exercise 5: Calculating psi angle\n",
        "\n",
        "Try to calculate this angle using the xyz atom positions for N, CA, and C of residue A:28 in the protein. You can use the `Vector` function `v3 = v1.dot(v2)` along with `v1.norm()`. The vector angle between two vectors BA and BC is $\\cos^{-1}(\\frac{BA \\cdot BC}{|BA| |BC|})$."
      ]
    },
    {
      "cell_type": "code",
      "execution_count": 76,
      "metadata": {
        "id": "JHs4S4rLVy3M",
        "colab": {
          "base_uri": "https://localhost:8080/"
        },
        "outputId": "4cf3af26-f129-4d9b-f102-1699358f1b8e"
      },
      "outputs": [
        {
          "output_type": "stream",
          "name": "stdout",
          "text": [
            "1.913188766577386\n"
          ]
        }
      ],
      "source": [
        "N_xyz = res_28.xyz(\"N\")\n",
        "CA_xyz = res_28.xyz(\"CA\")\n",
        "C_xyz = res_28.xyz(\"C\")\n",
        "N_CA_vector = CA_xyz - N_xyz\n",
        "CA_C_vector = CA_xyz - C_xyz\n",
        "v3 = N_CA_vector.dot(CA_C_vector)\n",
        "v4 = N_CA_vector.norm()\n",
        "v5 = CA_C_vector.norm()\n",
        "psi_angle = (math.acos(v3/(v4*v5)))\n",
        "print(psi_angle)"
      ]
    },
    {
      "cell_type": "markdown",
      "source": [],
      "metadata": {
        "id": "rjNqxxOU9JY_"
      }
    },
    {
      "cell_type": "markdown",
      "metadata": {
        "id": "dYW5dXvEVy3M"
      },
      "source": [
        "## Manipulating Protein Geometry"
      ]
    },
    {
      "cell_type": "markdown",
      "metadata": {
        "id": "FPa7_a8BVy3M"
      },
      "source": [
        "We can also alter the geometry of the protein, with particular interest in manipulating the protein backbone and $\\chi$ dihedrals.\n",
        "\n",
        "### Exercise 6: Changing phi/psi angles\n",
        "\n",
        "Perform each of the following manipulations, and give the coordinates of the CB atom of Pose residue 2 afterward.\n",
        "- Set the $\\phi$ of residue 2 to -60\n",
        "- Set the $\\psi$ of residue 2 to -43"
      ]
    },
    {
      "cell_type": "code",
      "execution_count": 65,
      "metadata": {
        "deletable": false,
        "id": "RNEUua_lVy3M",
        "nbgrader": {
          "cell_type": "code",
          "checksum": "ffa61f4df7147112135f59bcf552b68b",
          "grade": true,
          "grade_id": "cell-3fca851f0347c0e2",
          "locked": false,
          "points": 0,
          "schema_version": 3,
          "solution": true
        },
        "colab": {
          "base_uri": "https://localhost:8080/"
        },
        "outputId": "886401f9-bab8-40e6-eab9-3087f121c941"
      },
      "outputs": [
        {
          "output_type": "stream",
          "name": "stdout",
          "text": [
            "original phi: 180.0\n",
            "original psi: 180.0\n",
            "xyz coordinates: 3.53527,3.65904,1.19909\n"
          ]
        }
      ],
      "source": [
        "# three alanines\n",
        "tripeptide = pose_from_sequence(\"AAA\")\n",
        "\n",
        "orig_phi = tripeptide.phi(2)\n",
        "orig_psi = tripeptide.psi(2)\n",
        "print(\"original phi:\", orig_phi)\n",
        "print(\"original psi:\", orig_psi)\n",
        "\n",
        "# print the xyz coordinates of the CB atom of residue 2 here BEFORE setting\n",
        "print(\"xyz coordinates:\", tripeptide.residue(2).xyz(\"CB\"))\n"
      ]
    },
    {
      "cell_type": "code",
      "execution_count": 66,
      "metadata": {
        "deletable": false,
        "id": "tKx1WbyMVy3N",
        "nbgrader": {
          "cell_type": "code",
          "checksum": "009fba959ec661f62dd271721db1ec40",
          "grade": true,
          "grade_id": "cell-3ae37d3a46fed417",
          "locked": false,
          "points": 0,
          "schema_version": 3,
          "solution": true
        },
        "colab": {
          "base_uri": "https://localhost:8080/"
        },
        "outputId": "c65ef227-4dc7-4684-c11b-58c792f804c5"
      },
      "outputs": [
        {
          "output_type": "stream",
          "name": "stdout",
          "text": [
            "-60.0\n",
            "-43.0\n"
          ]
        }
      ],
      "source": [
        "# set the phi and psi here\n",
        "tripeptide.set_phi(2, -60)\n",
        "tripeptide.set_psi(2, -43)\n",
        "\n",
        "print(tripeptide.phi(2))\n",
        "print(tripeptide.psi(2))\n"
      ]
    },
    {
      "cell_type": "code",
      "execution_count": 67,
      "metadata": {
        "deletable": false,
        "id": "j_4phbEVVy3N",
        "nbgrader": {
          "cell_type": "code",
          "checksum": "9db97d3045e1459fed17ac233c227afb",
          "grade": true,
          "grade_id": "cell-5d71509d56bce1ff",
          "locked": false,
          "points": 0,
          "schema_version": 3,
          "solution": true
        },
        "colab": {
          "base_uri": "https://localhost:8080/"
        },
        "outputId": "38ee9033-4dfb-4fd6-b010-71275220e28f"
      },
      "outputs": [
        {
          "output_type": "stream",
          "name": "stdout",
          "text": [
            "xyz coordinates: 5.49854,2.67162,0.0696857\n"
          ]
        }
      ],
      "source": [
        "# print the xyz coordinates of the CB atom of residue 2 here AFTER setting\n",
        "print(\"xyz coordinates:\", tripeptide.residue(2).xyz(\"CB\"))\n",
        "# did changing the phi and psi angle change the xyz coordinates of the CB atom of alanine 2?"
      ]
    },
    {
      "cell_type": "markdown",
      "metadata": {
        "id": "BdkDofbkVy3N"
      },
      "source": [
        "By printing the pose (see below command), we can see that the whole protein is in a single chain from residue 1 to 524 (or 519, depending on if the pose was cleaned).\n",
        "\n",
        "The `FOLD_TREE` controls how changes to residue geometry propagate through the protein (left to right in the FoldTree chain.) We will go over the FoldTree in another lecture, but based on how you think perturbing the backbone of a protein structure affects the overall protein conformation, consider this question: If you changed a torsion angle for residue 5, would the Cartesian coordinaes for residue 7 change? What about the coordinates for residue 3?\n",
        "\n",
        "Try looking at the pose in PyMOL before and after you set the backbone $\\phi$ and $\\psi$ for a chosen residue."
      ]
    },
    {
      "cell_type": "code",
      "execution_count": 68,
      "metadata": {
        "id": "TQDG2bs7Vy3N",
        "colab": {
          "base_uri": "https://localhost:8080/"
        },
        "outputId": "56348253-4800-4602-d1fa-acaa2eba8884"
      },
      "outputs": [
        {
          "output_type": "stream",
          "name": "stdout",
          "text": [
            "PDB file name: /content/5tj3.pdb\n",
            "Total residues: 524\n",
            "Sequence: NAVPRPKLVVGLVVDQMRWDYLYRYYSKYGEGGFKRMLNTGYSLNNVHIDYVPTVTAIGHTSIFTGSVPSIHGIAGNDWYDKELGKSVYCTSDETVQPVGTTSNSVGQHSPRNLWSTTVTDQLGLATNFTSKVVGVSLKDRASILPAGHNPTGAFWFDDTTGKFITSTYYTKELPKWVNDFNNKNVPAQLVANGWNTLLPINQYTESSEDNVEWEGLLGSKKTPTFPYTDLAKDYEAKKGLIRTTPFGNTLTLQMADAAIDGNQMGVDDITDFLTVNLASTDYVGHNFGPNSIEVEDTYLRLDRDLADFFNNLDKKVGKGNYLVFLSADHGAAHSVGFMQAHKMPTGFFDMKKEMNAKLKQKFGADNIIAAAMNYQVYFDRKVLADSKLELDDVRDYVMTELKKEPSVLYVLSTDEIWESSIPEPIKSRVINGYNWKRSGDIQIISKDGYLSAYSKKGTTHSVWNSYDSHIPLLFMGWGIKQGESNQPYHMTDIAPTVSSLLKIQFPSGAVGKPITEVIGZZZZ\n",
            "Fold tree:\n",
            "FOLD_TREE  EDGE 1 520 -1  EDGE 1 521 1  EDGE 1 522 2  EDGE 1 523 3  EDGE 1 524 4 \n"
          ]
        }
      ],
      "source": [
        "print(pose)"
      ]
    },
    {
      "cell_type": "markdown",
      "source": [],
      "metadata": {
        "id": "VAEOK0q-YViD"
      }
    },
    {
      "cell_type": "markdown",
      "metadata": {
        "id": "cQbM59mUVy3O"
      },
      "source": [
        "# Visualization with the `PyMOL`"
      ]
    },
    {
      "cell_type": "markdown",
      "metadata": {
        "id": "BL2UkbJaVy3O"
      },
      "source": [
        "You can dump any pose into a pdb file and open it in your computer. You will use PyMOL to visualize the pose.\n",
        "```\n",
        "pose.dump_pdb(\"output_file.pdb\")\n",
        "```"
      ]
    },
    {
      "cell_type": "code",
      "execution_count": 77,
      "metadata": {
        "id": "oLPgjV7wVy3O",
        "colab": {
          "base_uri": "https://localhost:8080/"
        },
        "outputId": "9d340640-3236-4d94-b1a7-e5e9e48f5072"
      },
      "outputs": [
        {
          "output_type": "stream",
          "name": "stdout",
          "text": [
            "core.import_pose.import_pose: File '5tj3.pdb' automatically determined to be of type PDB\n",
            "core.conformation.Conformation: [ WARNING ] missing heavyatom:  CG  on residue LYS 233\n",
            "core.conformation.Conformation: [ WARNING ] missing heavyatom:  CD  on residue LYS 233\n",
            "core.conformation.Conformation: [ WARNING ] missing heavyatom:  CE  on residue LYS 233\n",
            "core.conformation.Conformation: [ WARNING ] missing heavyatom:  NZ  on residue LYS 233\n",
            "core.conformation.Conformation: [ WARNING ] missing heavyatom:  CG  on residue ASP 350\n",
            "core.conformation.Conformation: [ WARNING ] missing heavyatom:  OD1 on residue ASP 350\n",
            "core.conformation.Conformation: [ WARNING ] missing heavyatom:  OD2 on residue ASP 350\n",
            "core.conformation.Conformation: [ WARNING ] missing heavyatom:  CG  on residue LYS 353\n",
            "core.conformation.Conformation: [ WARNING ] missing heavyatom:  CD  on residue LYS 353\n",
            "core.conformation.Conformation: [ WARNING ] missing heavyatom:  CE  on residue LYS 353\n",
            "core.conformation.Conformation: [ WARNING ] missing heavyatom:  NZ  on residue LYS 353\n",
            "core.conformation.Conformation: [ WARNING ] missing heavyatom:  CG  on residue GLU 354\n",
            "core.conformation.Conformation: [ WARNING ] missing heavyatom:  CD  on residue GLU 354\n",
            "core.conformation.Conformation: [ WARNING ] missing heavyatom:  OE1 on residue GLU 354\n",
            "core.conformation.Conformation: [ WARNING ] missing heavyatom:  OE2 on residue GLU 354\n",
            "core.conformation.Conformation: [ WARNING ] missing heavyatom:  CG  on residue LYS 382\n",
            "core.conformation.Conformation: [ WARNING ] missing heavyatom:  CD  on residue LYS 382\n",
            "core.conformation.Conformation: [ WARNING ] missing heavyatom:  CE  on residue LYS 382\n",
            "core.conformation.Conformation: [ WARNING ] missing heavyatom:  NZ  on residue LYS 382\n",
            "core.conformation.Conformation: [ WARNING ] missing heavyatom:  CG  on residue TYR 454\n",
            "core.conformation.Conformation: [ WARNING ] missing heavyatom:  CD1 on residue TYR 454\n",
            "core.conformation.Conformation: [ WARNING ] missing heavyatom:  CD2 on residue TYR 454\n",
            "core.conformation.Conformation: [ WARNING ] missing heavyatom:  CE1 on residue TYR 454\n",
            "core.conformation.Conformation: [ WARNING ] missing heavyatom:  CE2 on residue TYR 454\n",
            "core.conformation.Conformation: [ WARNING ] missing heavyatom:  CZ  on residue TYR 454\n",
            "core.conformation.Conformation: [ WARNING ] missing heavyatom:  OH  on residue TYR 454\n",
            "core.conformation.Conformation: [ WARNING ] missing heavyatom:  OXT on residue GLY:CtermProteinFull 520\n",
            "core.pack.pack_missing_sidechains: packing residue number 233 because of missing atom number 6 atom name  CG\n",
            "core.pack.pack_missing_sidechains: packing residue number 350 because of missing atom number 6 atom name  CG\n",
            "core.pack.pack_missing_sidechains: packing residue number 353 because of missing atom number 6 atom name  CG\n",
            "core.pack.pack_missing_sidechains: packing residue number 354 because of missing atom number 6 atom name  CG\n",
            "core.pack.pack_missing_sidechains: packing residue number 382 because of missing atom number 6 atom name  CG\n",
            "core.pack.pack_missing_sidechains: packing residue number 454 because of missing atom number 6 atom name  CG\n",
            "core.pack.task: Packer task: initialize from command line()\n",
            "core.scoring.ScoreFunctionFactory: SCOREFUNCTION: ref2015\n",
            "core.pack.pack_rotamers: built 90 rotamers at 6 positions.\n",
            "core.pack.interaction_graph.interaction_graph_factory: Instantiating DensePDInteractionGraph\n"
          ]
        },
        {
          "output_type": "execute_result",
          "data": {
            "text/plain": [
              "True"
            ]
          },
          "metadata": {},
          "execution_count": 77
        }
      ],
      "source": [
        "pose = pose_from_pdb(\"5tj3.pdb\")\n",
        "pose.dump_pdb(\"output_file.pdb\")"
      ]
    },
    {
      "cell_type": "code",
      "source": [
        "pwd"
      ],
      "metadata": {
        "colab": {
          "base_uri": "https://localhost:8080/",
          "height": 35
        },
        "id": "WLtgHLaABY4E",
        "outputId": "959b590d-af4d-4369-d51e-b92a6ad2b84d"
      },
      "execution_count": 78,
      "outputs": [
        {
          "output_type": "execute_result",
          "data": {
            "text/plain": [
              "'/content/google_drive/MyDrive/codeschool2023'"
            ],
            "application/vnd.google.colaboratory.intrinsic+json": {
              "type": "string"
            }
          },
          "metadata": {},
          "execution_count": 78
        }
      ]
    },
    {
      "cell_type": "markdown",
      "metadata": {
        "id": "yUlRpGj9Vy3O"
      },
      "source": [
        "If you did not properly set up PyMOL (as part of HW1), you will need to do that first.\n",
        "```"
      ]
    },
    {
      "cell_type": "markdown",
      "source": [],
      "metadata": {
        "id": "lJ6qVWKgB2hh"
      }
    },
    {
      "cell_type": "markdown",
      "metadata": {
        "id": "xxTM3H-4Vy3P"
      },
      "source": [
        "PyMOL allows you to visualize the pose and perform some basic manipulations. You can also make movies of the pose as well as very nice figures.\n",
        "\n"
      ]
    },
    {
      "cell_type": "markdown",
      "metadata": {
        "id": "asLQrb4hVy3Q"
      },
      "source": [
        "Save your figures as png files and commit them to your repository."
      ]
    },
    {
      "cell_type": "markdown",
      "metadata": {
        "id": "wz5EM4z4CW8S"
      },
      "source": [
        "What are some observations you can make from the protein structure?"
      ]
    },
    {
      "cell_type": "code",
      "execution_count": null,
      "metadata": {
        "id": "I2OYHf2kCW8S"
      },
      "outputs": [],
      "source": [
        "# Note your observations here: The protein structure shows that it is a combination of alpha helices, beta pleated sheets and loops."
      ]
    },
    {
      "cell_type": "markdown",
      "metadata": {
        "id": "q0UjmAc1Vy3S"
      },
      "source": [
        "## Exercise 7: Visualizing changes in backbone angles"
      ]
    },
    {
      "cell_type": "markdown",
      "metadata": {
        "id": "DeYsWrSSVy3T"
      },
      "source": [
        "Use a `for` loop to change some backbone torsions (phi and psi) of `test_pose`. Be sure to `keep_history` and send to PyMOL. Try printing the $\\phi$ and $\\psi$ before and after you set it to make sure it is working as you expect."
      ]
    },
    {
      "cell_type": "code",
      "execution_count": 99,
      "metadata": {
        "id": "Khs3OZ5BVy3T",
        "colab": {
          "base_uri": "https://localhost:8080/"
        },
        "outputId": "da3b764b-334a-4812-e5b6-1c1b3886b1f0"
      },
      "outputs": [
        {
          "output_type": "stream",
          "name": "stdout",
          "text": [
            "10\n",
            "151.0\n",
            "35.0\n",
            "11\n",
            "31.0\n",
            "33.0\n",
            "12\n",
            "35.0\n",
            "119.0\n",
            "13\n",
            "15.0\n",
            "119.0\n",
            "14\n",
            "8.0\n",
            "149.0\n",
            "15\n",
            "106.0\n",
            "82.0\n",
            "16\n",
            "105.0\n",
            "137.0\n",
            "17\n",
            "137.0\n",
            "120.0\n",
            "18\n",
            "21.0\n",
            "179.0\n",
            "19\n",
            "26.0\n",
            "164.0\n"
          ]
        },
        {
          "output_type": "execute_result",
          "data": {
            "text/plain": [
              "True"
            ]
          },
          "metadata": {},
          "execution_count": 99
        }
      ],
      "source": [
        "test_pose = Pose()\n",
        "test_pose.assign(pose)\n",
        "\n",
        "import random\n",
        "\n",
        "for i in range(10,20):\n",
        "  print(i)\n",
        "\n",
        "  \n",
        "  test_pose.set_phi(i, random.randint(0, 180))\n",
        "  test_pose.set_psi(i, random.randint(0, 180))\n",
        "  print (test_pose.phi(i))\n",
        "  print (test_pose.psi(i))\n",
        "  \n",
        "test_pose.dump_pdb(\"randomtestposePymol.pdb\")\n",
        "\n",
        "# use a for loop here\n",
        "# set some phi and psi values\n",
        "# check out the different structures in PyMOL"
      ]
    },
    {
      "cell_type": "code",
      "source": [],
      "metadata": {
        "id": "o7SSHNO0ILOM"
      },
      "execution_count": null,
      "outputs": []
    },
    {
      "cell_type": "markdown",
      "metadata": {
        "id": "Y6KTORIAVy3T"
      },
      "source": [
        "## Additional Exercises ##"
      ]
    },
    {
      "cell_type": "markdown",
      "metadata": {
        "id": "iztReYKqVy3T"
      },
      "source": [
        "The following exercises are meant to get you more comfortable with `Pose` methods and python coding. Many will require looping through the residues in a pose. As you find residues that answer these questions, view them in the PyMOL structure to check your work.\n",
        "\n",
        "**PyMOL Instructios:** View the original protein (5tj3) in PyMOL, view as cartoon, view Zn2+ atoms as spheres, and color the substrate mimic residue TPO distinctly (in PyMOL, try `select resn TPO`)."
      ]
    },
    {
      "cell_type": "markdown",
      "metadata": {
        "id": "kZji15FbVy3U"
      },
      "source": [
        "- Create the Ramachandran plot for the protein and compare with the [Ramachandran plot](http://kinemage.biochem.duke.edu/teaching/anatax/html/anatax.1b.html)\n",
        "from  [Richardson's Anatomy and Taxonomy of Protein Structure](http://kinemage.biochem.duke.edu/teaching/anatax/).\n",
        "\n",
        "Don't forget to label your axes!"
      ]
    },
    {
      "cell_type": "code",
      "execution_count": 106,
      "metadata": {
        "id": "fiUun7QyVy3U",
        "colab": {
          "base_uri": "https://localhost:8080/",
          "height": 523
        },
        "outputId": "cc3ba0dd-c338-4ccf-bb94-7d994a034951"
      },
      "outputs": [
        {
          "output_type": "stream",
          "name": "stdout",
          "text": [
            "[0.0, -96.34447475903019, -68.93968710929568, -63.80452599570699, -149.17513487055064, -72.82614209826544, -75.54209523441875, -151.63021416116464, -123.78798600623003, -116.49151091715584, -104.1549068053173, -101.39920395748165, -124.02179531892187, -84.81358936685191, -67.1199072076119, 70.14020432433232, -82.19245730585389, -60.530975121728176, -56.395971807703425, -74.5186318486075, -60.626780420666584, -60.97317651001091, -114.41886966682475, -59.594055168282665, -103.85516470979324, -56.11266320081652, -69.82438456067467, -104.80654298373828, -64.85745324610808, -82.10379072789365, -93.98246358183121, -109.59668634329248, -106.36908732347595, -60.43735851985235, -71.19059838242765, -65.21870169849075, -68.47078752936179, -67.28341742022783, -79.20253324862071, -117.50940080303829, -119.6605469508737, -118.74249724788436, -114.15968626788273, -98.03892185047023, -91.6788705605888, -137.75566787640216, -107.77948927779697, -124.89972689003754, -77.1097757352493, -98.38126643814014, -156.6448115507456, -134.4870463558711, -82.88172704394105, -87.43934860687867, -114.38553857565257, 22.449674009231813, -70.22039095493474, -57.5571213281443, -65.71935169163422, -63.55423095282647, -73.17604437896844, -60.34513203021518, -99.12406895972903, -103.17656680153019, 61.35424828969278, -121.17944971213831, -126.6147904929732, -53.300005205004176, -54.60648213140583, -103.68238397908564, -83.94322145505346, 89.46834943971488, -88.13827022013662, -93.14758480162725, 146.18790556347173, -61.05150632655495, -136.190104285598, -152.5767767660267, -89.85889308166468, -101.91555578687903, -72.49374291207923, -79.03186882784465, -82.17322657415106, 72.75995122287523, -168.3256106269048, -74.0160815791624, -127.71925075465766, -84.28868505145734, -58.916188706435356, -109.93904551758607, -57.46702312327635, -149.33872412981967, -87.81974905705712, -97.2084173498792, -119.16941027536156, -117.41245665935477, -66.57275976542996, -127.80502994899483, 95.71358386187451, -146.71666988207392, -96.88510516080817, -76.28931856266772, -73.57832354723871, -63.217649862531864, -86.15037935700512, -108.40996464514124, -85.5918897931501, -143.0443264902913, -163.26412568276916, -90.88100582561978, -68.59382499834916, -80.53599433194631, -87.93889309103169, -92.22616477214235, -102.69587668462746, -76.50591046282483, -101.81240449496657, -63.88535623139188, -68.75081607965583, -61.056568746146475, -69.5432125356607, -61.9990590032458, -62.17565483223939, -64.98020824188856, -84.01023398576788, -115.59277389965737, 55.676716953432184, 61.74525678478777, -87.46036367346498, -78.95400716189921, -89.78481069965083, -125.78396973235051, -135.06335146459074, -110.5567974469648, -133.4024743237373, -170.31485117132482, -69.60449768374075, -93.87502350229919, -56.8804485565547, -61.3777900099396, -81.59625794235252, -100.43814298229374, -70.68647137355002, -70.06134104871315, -62.259984721836766, -70.37735227273069, 93.14920847502496, -94.40227738767031, -145.3005820660039, -82.46821700489603, -61.35274458569755, -169.95754243321548, -140.02442772091976, -125.3051448276975, -143.24797011792768, -91.06506196342566, -98.25242039291574, -63.42273883890049, -83.3009651031132, -129.08545474814426, 75.67084891231772, -115.8530685220223, -90.88814284973593, -132.58580405673572, -154.3834513790476, -135.5191271731531, -68.11981866992656, -57.485071563264086, -97.8139649455627, -144.2001776881456, -73.83307131982332, -141.4531348649177, -67.67663354864142, -64.91764090737006, -58.531905744792766, -67.9960050019019, -78.59605940267227, -57.19919719317623, -60.01553689640981, -66.09236330364942, -59.50646080649623, -68.13844638462477, -70.37441679693013, 52.61273886593659, -55.50907310415848, -55.787997570842464, -60.03436198519924, -60.821110720528885, -71.39387783897634, -92.33424613236694, -62.044955585104084, -98.90857575408435, 73.09160597964762, -131.50678680742539, -111.09787493759605, -65.74796297709302, -64.4230339857356, -95.35168058689374, -55.178022086817485, -61.38180533971532, -64.22110483466606, -85.23510790788063, -80.56675222811808, -75.6584692204802, -77.4170739338577, -111.71467632864406, -74.58018156836647, -67.2708962100299, -69.05894256360654, -98.36065427660738, -131.42899495862457, -71.64233408898244, -86.69024497809272, -102.83296986709415, -82.05453594387525, -99.02456439614305, -126.87700156004952, 57.45652840091062, -88.82706887545307, -66.9421174630535, -103.6795796428945, -128.74966892470889, -82.53362901056359, -131.0484881362263, -70.65518808791084, -87.30067104752997, -95.9558267838009, -77.0329220105111, -96.85375591619164, -59.400412517294136, -57.766705788163975, -66.61152750619593, -71.03422665750908, -62.98431614948548, -56.95283035937524, -75.20654703283267, -145.40524636622536, -70.26022068957955, -65.13337999765643, -62.47694972384784, -62.895149804302925, -60.12671685100752, -97.04646602205271, -140.78361825067464, -59.99507952164235, -71.40290539561713, -64.39604436281688, -72.02473062730124, -58.874073432057436, -59.77542173733015, -60.72631429210772, -73.6990471695324, -68.60640315749056, -63.3234339134462, -66.2771154657763, -64.43899426149915, -64.96479682479037, -70.74187829767311, -57.96848525068433, -75.66065623602194, -66.3752111657426, -115.9878838894149, 53.673101204911525, -76.1701636428684, 88.60616303674834, -92.66721680900011, -103.83327961151188, -89.14618812294103, -80.72583010511656, -65.06774009286968, -105.9567636100302, -136.48958098538702, -112.33824761351902, -113.90864419882512, -136.79504509271902, -98.55093215967149, -96.34667282289175, -85.39966248074468, -69.22964336108012, -63.567411343821234, -79.94519075169434, -62.73277020643777, -62.37379235611248, -61.23669257628814, -59.91978565071609, -86.39786556036222, -117.37224330591945, 91.98218348485972, -66.88900354403549, -101.77928084255763, -81.45267169309056, -61.3316099221035, -56.56322230178927, -65.44539341963252, -60.733526206791524, -65.6607240500749, -62.35719915100888, -77.81152701974126, -66.7849220356575, -76.66193312566095, -63.08334155976341, -55.30587533417347, -68.35253619662055, -64.43056402055453, -64.64486156500587, -59.606717421918226, -63.48453158996347, -64.45172092573807, -65.41632504851951, -65.89179033330281, -66.33296687503056, -61.626569378967396, -59.650773605304565, -90.2052317836785, -88.02511239717892, -118.55833839652534, 109.46805232537226, -68.58055118367072, 97.3112221815549, -96.6295111386393, -129.28799689050777, -119.33655227718009, -118.8347403321427, -122.95800609524422, -115.71768113625699, -151.35928209972843, -140.4454319043835, -82.0748594622037, 175.9057321090254, -95.79997876871109, -165.0513505629964, -82.00458577761823, -74.47458350088283, -63.30862530947222, -61.385280486898075, -66.17664051133147, -64.32236261840102, -65.80623924278639, -63.17627939238221, -61.55833959782147, -115.02563228451268, 64.8087093280797, -87.87722162830862, -63.657557024790904, -167.15385013373694, 159.13865715910845, -115.55599454920096, -73.7684544137655, -53.51198038930242, -66.1916076105103, -60.92260841818308, -68.27967683546365, -65.68355348334696, -70.49456393759264, -64.5573282028627, -61.57870337582286, -72.59211757903395, -56.674745437595156, -58.55125425720539, -61.96014930180158, -79.11885719492655, -115.23574857905622, 89.78525758210637, -114.8458006959163, -92.18904517589309, 55.75321184317978, -60.28491487369175, -85.84276957882388, -83.97086157757018, -159.90062366919807, -139.23420468681064, -163.98634440838916, 52.29970880570081, 58.2780358539372, -133.65405786495384, -129.83901139983018, -106.50908983253741, -99.36918015077542, -74.76333402302106, -61.06462116372392, -66.21354117192442, -70.1692155514846, -64.05998142560153, -65.61449838912905, -66.0308963581679, -94.44196037839703, 62.50557618525866, -112.66679315443817, -83.9461564218984, -61.06434844264769, -69.48326519433007, -60.616297391630255, -60.16998070510326, -74.92894535939327, -65.77482202978628, -62.871392073421546, -59.00970378719385, -65.8983975654537, -62.910627626819576, -66.45947180154073, -73.39813196722167, -62.630438784800354, -75.54641862195905, -74.14698570823542, -66.58732673176067, -90.54341965801832, -94.10118708963724, -89.47734365945664, -133.65525761389227, -133.4151352930247, -158.36864144809104, -73.47891088967475, -72.23410952422839, -82.31995164542624, -135.81093646040586, -78.03136101476265, -65.65446229813872, -86.79732247176001, -66.40602113760646, -86.95037247693102, -132.53882920328374, -77.64453932114291, -75.69977263618803, -84.43604937740324, -60.296955527123224, -59.51486300161322, -69.397091379437, -67.01546501300464, -68.1003187172338, -61.1769359301196, -57.68929107041091, -84.6708968520142, -91.78528241937997, -96.06310599774213, -58.863209692891196, -82.51251659999507, -113.82630708848754, -96.40134574428426, -81.56758840452565, -90.97057216058087, -130.4367073713768, -109.87238628327582, -119.6822701991668, -117.28920949871615, -83.78332868818674, -67.27473947617908, -59.5533180466288, 81.71916216356377, -78.43796239728867, -119.85903803439929, -63.87589114643338, -88.1002293715792, -55.41188527698316, -137.25799766951852, -83.59849283568528, -119.43267723015387, 63.275663230255276, -157.69114714470626, -155.19342761889297, -161.29247193699658, -177.9854798864714, -96.12029118298186, -74.85559748757129, -59.22255837064885, -57.57444613857335, -63.300701982951445, -89.30752219492744, -97.02834398418807, -79.4626005560529, -113.99034488943825, -67.4403351198254, -149.2369577376756, -124.87875780179665, -112.7602994532417, -153.83383389145544, 111.20474538542457, -53.880948114626754, 76.03031430869503, -117.86285737046634, -83.7051970978465, -83.70577017006316, 160.08062164512515, -156.48106294224118, -148.69455328217725, -108.01596766681583, -67.32299300336163, -75.50444255883414, -134.86930237517188, -112.35595640037047, -57.072579980506, -71.99706088896761, -86.16219584178084, -71.09524858648722, -61.13616175153251, -55.95972636301354, -64.55229986274004, -62.685268935877346, -60.08810272358229, -67.11963408122243, -61.628965740831376, -92.45774096901096, 54.33273214572282, -121.36484871102903, -64.62612084466367, -60.98303624809779, -58.32762066030855, -71.83008691562986, -112.67608280589387, -64.71695739732921, -117.72847077031035, -84.35322323281689, -140.52093763697385, -61.94530220557949, -86.81868000408221, -70.49993280696907, -76.48231723574048, -81.55454707530176, -78.91742201034208]\n",
            "[27.054769340098197, 155.7828142383245, 122.95191603067437, 126.9421434881676, 151.30037995499168, 158.36869756413756, -25.196527841060494, 141.58415560541687, 137.4652770082255, 123.95315978019241, 105.64226349921236, 125.39816008123334, 114.97491223410209, 113.60431742633627, 125.9561405212722, 22.381474360940352, 103.82241033997207, 147.26800029187652, -39.40117166718273, -4.7251470273274965, -28.236656092298027, -32.13044027476293, -25.6457593963719, -40.13140631169701, 16.69801645178704, -40.62320320399993, -13.190176113298659, -16.064025578567417, 155.0486055057727, -171.58167607569433, -10.123619323566901, 1.1206072808248861, -109.58557189616688, -36.88502257894048, -28.198839062712267, -38.27812094569942, -41.42748545936575, -42.79421327471165, -25.8200646651784, -7.052667876710865, -159.18783019382653, 127.58701775605567, 123.09626630103138, 106.89262966583495, 5.304292934224089, 57.91375523390724, 128.03272984920835, 151.61457357806069, 125.78447329454991, 37.866617992666875, 173.65387019935315, 152.0476852312471, 151.78764466282271, 73.03474321924669, -123.2058708363927, -43.71299135581066, -42.27256404457455, -50.026074902461914, -38.257362917155326, -46.56041903264482, -30.16204778178334, -41.130855083093955, -11.024188488039629, -16.015998608652406, 19.956526847565303, -177.86198654844526, 158.8229197118399, -33.955800147475145, -31.472846202583238, -50.90981134579652, -8.802889839022432, -9.738511766974721, 95.4886704415402, 18.019999908991995, 175.7551763393185, -36.9530854325605, 159.02432641750477, 159.83840560143673, 122.45853307238652, 110.74506755918885, -22.285355950315385, -32.63986387265665, -18.274378298987383, 31.02939870474893, 166.5583836359209, 147.5977586271628, 132.80003787196398, 143.7148120657038, -37.40113723021053, -4.636014540286778, 132.17204618738563, 106.0478127710453, 14.308569962723078, 1.2635554604968695, 168.72065183301063, 154.64106710457952, 147.32029282286425, 115.7356441354568, -8.17410320598567, 160.21790781711354, -4.541642562806853, 122.08987347059629, -41.84616370041895, -28.166950758029724, -32.16125410396823, -14.623828962236896, 79.09075489960732, 154.43647313748562, 170.2142619872432, 22.7491442935788, -19.426812453523095, -5.442031672899325, 122.99014120188978, -28.58942691725792, 154.61396338961075, 159.71612960490182, 167.86824965529632, -30.048271084352912, -35.765274667698066, -43.88263125434715, -33.021112569500595, -43.912007904031405, -42.041948685294855, -30.405010512916565, -15.80639403751573, 17.478220119007187, 31.808418851148407, 31.302520880124874, -7.734632760308179, 142.50098182377806, 120.43014983887132, 118.48645015624056, 130.3272286196381, 136.81464021699122, 136.24613599744063, 159.31115036408738, -31.750649507037487, 136.35555867763915, -49.78805965747431, -36.30208816147957, -8.496900952962598, -41.7189368482421, -48.160638630649316, -43.06112471647251, -33.36283479622674, -23.2362226274529, -159.61713046888528, -19.29545165071169, 61.47290759035989, 170.65231658791512, -39.46470469048579, 157.2036530305514, 122.74057277839997, 142.26462678882413, 169.38639679116832, 133.71532514818853, 110.07147122787048, -21.87589207040404, -19.670153866841943, -14.892553446796608, 20.580554802169633, 158.27876147241588, 129.70920505703046, -176.63082890215048, -161.5365322270703, 165.5970496144271, -7.019834740172163, -33.78024712692371, -58.463304854828436, 160.93556246730293, -30.54136807291954, 157.57264914024015, 141.66858197791927, 159.51056764971645, -38.90261415412305, -23.53041032890366, -45.0890964932848, -42.62492993896299, -44.70112776406095, -46.614660783240126, -39.80863353714767, -15.613319706580059, -20.771588502284292, 53.96468297093198, -41.52524508017809, -43.45573616871793, -42.85370813447644, -39.12849200867836, -40.29315073803084, 6.185083036238215, -36.45089748007686, 18.31602379011166, -161.9117893639321, 106.23972035721984, 158.24813053467486, 144.06443965707444, -44.10698491714744, 166.57501650992765, 131.66333147492122, -27.220302843719395, -18.0065066791749, -7.019127436716914, 61.06748628973806, -14.855691226259502, -6.282294078002529, 169.40005588466502, -172.10713273530843, 162.55763158989427, -46.158605054344015, 103.21454810629469, 158.39936362674783, -27.751340554772025, 7.231786296071968, 138.90079361020267, -179.86107805922083, 157.71826946105017, 129.2109988188263, -134.27740974795665, -16.034326432805454, 142.68618964750715, 5.096875569492406, 148.5312568607824, 53.53313546946817, 149.0696127552726, 155.88681339350373, 151.22410440307019, 79.5925882637177, -23.0247434723209, 22.778269613046028, -51.40587497931099, -43.427492868157834, -38.637923285840664, -38.91458099830556, -38.84190683580943, -44.66049716623551, -28.207511283050998, 98.75983757595331, -17.467055398312247, -11.787571069218753, -30.668447558803532, -21.20931752535228, -34.3516465062924, 40.05108080848923, 159.991113063006, -23.450124353168917, -16.624449377550064, -35.87770519807065, -42.9045869050958, -43.09429677490335, -46.03753771049935, -42.23556351429935, -30.884385676073556, -37.487386486152445, -38.39194930252435, -36.707509881877435, -38.578222265928304, -31.89457101349245, -39.6380615801568, -45.91491793862442, -40.869734696857314, -22.493228395522863, 7.452336962652929, 46.56029507220227, 123.1623128654111, 12.019410538871131, -33.16338129972132, -168.70914953023242, -5.827284983274102, 121.11567151567857, 127.68951530634635, 161.50210965148506, 117.72049003712382, 124.2468241660443, 127.11937652886617, 126.30433929970698, 131.22467282087345, 97.23464321148963, -20.77149142355606, -25.879718151343397, -26.34446970868397, -45.312720790818965, -46.8412062386305, -45.97925196734106, -41.113256772291265, -35.676291677314204, -33.80552594804385, -25.536414058878396, 159.6913435375112, -15.474227728923088, 9.933806935406565, 153.61239482411438, -35.34054118795825, -48.79980689745599, -42.66822700661242, -42.89350459849336, -33.83627221750645, -38.660903002783854, -32.00025454779451, -36.5776913618411, -37.260314748301575, -40.73647083848933, -43.809290201532306, -39.35430560429189, -37.848246959727334, -38.932348178161455, -43.91484771614812, -39.17735514467932, -47.20036421243714, -36.39225282815018, -36.03311687372305, -37.056252332254005, -41.19643225893197, -31.921052003590844, -35.51995740175339, -26.787386415067854, -43.216841763660845, 135.99860658135944, 129.9676936853833, -16.76601068941659, -3.827716573080392, 154.7329871178183, 128.1004327964492, 133.57121904195733, 130.94336518112098, 133.52368287009494, -164.27880772767912, 154.83633073027283, -12.451256926650183, 169.30757393111392, -143.69519652065728, 149.9994336699591, 166.1513297376217, 154.35399235924146, 146.66929556407644, -43.31166623802495, -33.6837197403267, -47.40663614771759, -39.07342529586629, -39.25665867583037, -25.467979457850063, 21.25445676183262, 22.92602572586383, 154.72915910502445, 126.37404451319763, 177.7198592994688, -172.47946500737015, 142.70749352264693, -76.03145294301953, 63.41971514782871, -43.36813417822951, -47.21524638049544, -46.54342829175335, -46.86502988108632, -32.832676441266464, -36.05244477610161, -40.07669180228842, -46.387671206384525, -38.50530935011021, -50.9763327674082, -36.75047108024069, -40.51779548457354, -11.997936238549675, -3.1105552043142604, 147.84335432516897, 160.58320655022075, 35.29315988675155, -38.81721866319389, 124.35593108179137, -35.22857431414624, 155.60964059143592, 110.7269942121203, 157.8038186599907, 35.89186498177081, 32.58529580440531, 161.94837342005306, 133.4977143044381, 136.49947812138316, 139.62529648035277, 106.09079153600156, -30.1521997350286, -40.78415995088846, -38.479241853807984, -45.04528070720331, -48.22404702562898, -29.256418423958678, -0.850258051347744, 44.69267403878025, 142.84604526381318, 141.46147880206527, -39.53383941977726, -40.999937924494446, -54.54919870595067, -34.121236926843295, -38.739134347276824, -38.11216180772078, -49.723517588723375, -41.71284930948404, -39.260236976382, -41.40685741916248, -36.59369433005681, -26.030470846529724, -24.721886913996737, -14.413236336526193, 136.07113330293518, -18.474202332186334, -7.564457304448925, 121.64708111658639, -51.09588099016728, 148.22638007229878, 137.09308132924872, 154.3236450007507, 137.9735376188748, -7.190967661590288, -12.501423607270725, 51.39476022416863, -46.49037197654471, -35.452668089854, -5.194605424434524, 154.65397765552527, 70.50172338997952, 133.18438760653913, 162.43732834673875, 154.51090381007316, 2.556540634195928, -45.1932057431714, -49.1099359782155, -30.99283452921768, -34.32817717707367, -39.61261416559308, -52.21988674386871, -35.14129012973599, -5.9934084472889495, 107.9990606498927, 123.23608716744765, -40.316325167189994, -32.55301259583033, -11.00896299793869, 165.1984171679608, -176.8123944013243, -18.609338256752963, 138.8897245752545, 135.9596366271669, 133.89633641544253, 125.04602750738931, 156.55203009353576, 162.1180412175438, 141.96022847650775, -12.381866916799781, 137.46290810930122, 166.9692354273348, 149.92869149558692, 6.2409732182706925, -40.34933932735305, 122.11330865604107, 5.498479408736267, 170.4096599081056, -138.94290469789334, 179.24219357281206, -173.06032307577703, 135.9486237312792, -12.236191589367257, 170.09914337133813, -21.629244349518654, 153.06716513931258, -32.05999789523902, -30.4628378406929, -32.7510333650121, -17.127047336077208, 108.75413493009341, 147.66065729190487, 153.53807093832066, 110.06100715397663, 132.24127547233118, 143.99576900642518, 138.9695180481567, -138.5032028553871, 124.69726239701492, 11.901258053496703, 123.64890279189684, 161.31652108015768, 145.5053955234609, -170.75640568662897, 162.84502771964415, 145.15003382990045, 11.137099848672708, 144.92245168945922, 131.74597948589798, 167.70086464695208, 156.6744287579933, -34.3946243056336, -2.3534387572929076, -8.057716566715454, -55.277521441516974, -42.998975026674366, -35.906121191255025, -47.89079448250778, -38.29657408970198, -43.25102375143264, -40.63300788387433, -35.05254230824019, -5.055071950051597, 48.99939013521583, 158.33148581595597, 141.13228806964707, 154.34306595410675, 160.85294688766473, -27.74722458407399, 20.212307944981568, 135.3914871106122, -11.701607362794785, -172.3860805642489, 154.2367024645977, 144.9816679557056, 95.76976646059894, -27.017011262867282, -12.061819632519791, -32.82907235465699, 97.4812303444128]\n"
          ]
        },
        {
          "output_type": "execute_result",
          "data": {
            "text/plain": [
              "Text(0, 0.5, 'psi')"
            ]
          },
          "metadata": {},
          "execution_count": 106
        },
        {
          "output_type": "display_data",
          "data": {
            "text/plain": [
              "<Figure size 640x480 with 1 Axes>"
            ],
            "image/png": "[encoded data removed]"
          },
          "metadata": {}
        }
      ],
      "source": [
        "import matplotlib\n",
        "# this inline command gets plots to appear within the notebook\n",
        "# %matplotlib inline (Uncomment this)\n",
        "import matplotlib.pyplot as plt\n",
        "\n",
        "#making an empty list\n",
        "phi_list = []\n",
        "psi_list = []\n",
        "\n",
        "for i in range(1, len(pose_clean.sequence())):\n",
        "  #the reason why we said 1 and then len is that unlike in Python,\n",
        "  #amino acids do not start wtih 0. \n",
        "  phi_list.append(pose_clean.phi(i))\n",
        "  psi_list.append(pose_clean.psi(i))\n",
        "  \n",
        "print(phi_list)\n",
        "print(psi_list)\n",
        "\n",
        "# example of how to make a scatter plot from a list\n",
        "# uncomment to see how it works and pops up in the notebook\n",
        "x_coords = phi_list\n",
        "y_coords = psi_list\n",
        "plt.scatter(x_coords, y_coords)\n",
        "plt.xlabel(\"phi\")\n",
        "plt.ylabel(\"psi\")\n",
        "\n",
        "# A Ramachandran plot is psi vs phi. Collect these values from the pose and plot them"
      ]
    },
    {
      "cell_type": "markdown",
      "metadata": {
        "id": "m0usiu_gVy3U"
      },
      "source": [
        "### Analyzing Amino Acid Patterns"
      ]
    },
    {
      "cell_type": "markdown",
      "metadata": {
        "id": "K5xjDES0Vy3U"
      },
      "source": [
        "- Find all the polar amino acids in the protein. Using PyMOL, figure out where they are they located in the protein. Are there any patterns here?\n",
        "\n",
        "Hint, don't type in a residue number one-by-one. Try `select resn XXX` and replace XXX with polar residue names in PyMOL"
      ]
    },
    {
      "cell_type": "markdown",
      "source": [
        "I tested with arginine which is a polar amino acid. Most of the polar amino acids are located on the outer surface of the protein which makes sense since the protein is assumed to be in an aqueous environment and you want hydrophilic side chains to be outside. "
      ],
      "metadata": {
        "id": "aJbVYuFDU5Oa"
      }
    },
    {
      "cell_type": "markdown",
      "metadata": {
        "id": "kQoLycldVy3V"
      },
      "source": [
        "### Active Site Residues"
      ]
    },
    {
      "cell_type": "markdown",
      "metadata": {
        "id": "KDA5DeNMVy3V"
      },
      "source": [
        "- Find all residues that coordinate with the Zn2+ atoms around TPO (have any side-chain atoms within < 2.3 Angstroms). These residues may have a role in catalysis.\n",
        "\n",
        "Consider how you could loop through every atom index in a residue"
      ]
    },
    {
      "cell_type": "markdown",
      "metadata": {
        "id": "QT4xyvv-Vy3V"
      },
      "source": [
        "- Get all residue types within 8 Angstroms of the active site. Are there any patterns in terms of residue types here?\n",
        "\n",
        "Perhaps residues with backbone atoms within 8-9 Angstroms to the Zn atoms are within the active site"
      ]
    },
    {
      "cell_type": "code",
      "source": [
        "for in range (1, len(pose.sequence())):\n",
        "  "
      ],
      "metadata": {
        "id": "79TqfnHxV6W2"
      },
      "execution_count": null,
      "outputs": []
    },
    {
      "cell_type": "markdown",
      "metadata": {
        "id": "TcBFkibEVy3W"
      },
      "source": [
        "## Answers"
      ]
    },
    {
      "cell_type": "markdown",
      "metadata": {
        "id": "3EYOlwEHVy3W"
      },
      "source": [
        "### Exercise 6"
      ]
    },
    {
      "cell_type": "code",
      "execution_count": null,
      "metadata": {
        "id": "5jQ2SPnRVy3W"
      },
      "outputs": [],
      "source": [
        "# three alanines\n",
        "tripeptide = pose_from_sequence(\"AAA\")\n",
        "\n",
        "orig_phi = tripeptide.phi(2)\n",
        "orig_psi = tripeptide.psi(2)\n",
        "print(\"original phi:\", orig_phi)\n",
        "print(\"original psi:\", orig_psi)\n",
        "\n",
        "# print the xyz coordinates of the CB atom of residue 2 here BEFORE setting\n",
        "print(\"xyz coordinates:\", tripeptide.residue(2).xyz(\"CB\"))\n",
        "\n",
        "# set the phi and psi here\n",
        "tripeptide.set_phi(2, -60)\n",
        "tripeptide.set_psi(2, -43)\n",
        "\n",
        "print(\"new phi:\", tripeptide.phi(2))\n",
        "print(\"new psi:\", tripeptide.psi(2))\n",
        "\n",
        "# print the xyz coordinates of the CB atom of residue 2 here AFTER setting\n",
        "print(\"xyz coordinates:\", tripeptide.residue(2).xyz(\"CB\"))\n",
        "# did changing the phi and psi angle change the xyz coordinates of the CB atom of alanine 2?\n"
      ]
    },
    {
      "cell_type": "markdown",
      "metadata": {
        "id": "_u9AN3a2Vy3W"
      },
      "source": [
        "## References\n",
        "This notebook includes some concepts and exercises from:\n",
        "\n",
        "\"Workshop #2: PyRosetta\" in the PyRosetta workbook: https://graylab.jhu.edu/pyrosetta/downloads/documentation/pyrosetta4_online_format/PyRosetta4_Workshop2_PyRosetta.pdf\n",
        "\n",
        "\"Workshop #4.1: PyMOL_Mover\" in the PyRosetta workbook: \n",
        "http://www.pyrosetta.org/pymol_mover-tutorial"
      ]
    }
  ],
  "metadata": {
    "colab": {
      "collapsed_sections": [
        "fzEems93Vy24",
        "cZRgXPgWVy24",
        "EJ-17BFiVy25",
        "skgDJ5hjVy26",
        "P0Eh4VR0Vy29",
        "mx_sQmOyVy2_",
        "LfcJeTT_Vy2_",
        "OeZr-2tFVy3A",
        "SP0JCV-fVy3J",
        "w08ZJdoIVy3J",
        "JhuPy2JDVy3K",
        "cqSHlSQ4Vy3M",
        "dYW5dXvEVy3M",
        "FPa7_a8BVy3M",
        "q0UjmAc1Vy3S",
        "Y6KTORIAVy3T",
        "m0usiu_gVy3U",
        "kQoLycldVy3V",
        "TcBFkibEVy3W",
        "3EYOlwEHVy3W",
        "_u9AN3a2Vy3W"
      ],
      "provenance": []
    },
    "kernelspec": {
      "display_name": "Python 3",
      "language": "python",
      "name": "python3"
    },
    "language_info": {
      "codemirror_mode": {
        "name": "ipython",
        "version": 3
      },
      "file_extension": ".py",
      "mimetype": "text/x-python",
      "name": "python",
      "nbconvert_exporter": "python",
      "pygments_lexer": "ipython3",
      "version": "3.7.7"
    },
    "toc": {
      "base_numbering": 1,
      "nav_menu": {},
      "number_sections": true,
      "sideBar": true,
      "skip_h1_title": false,
      "title_cell": "Table of Contents",
      "title_sidebar": "Contents",
      "toc_cell": false,
      "toc_position": {},
      "toc_section_display": true,
      "toc_window_display": false
    }
  },
  "nbformat": 4,
  "nbformat_minor": 0
}